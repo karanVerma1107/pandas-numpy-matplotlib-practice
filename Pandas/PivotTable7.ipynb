{
 "cells": [
  {
   "cell_type": "markdown",
   "id": "d9e3838c",
   "metadata": {},
   "source": [
    "\n",
    "\n",
    "---\n",
    "\n",
    "### What is a Pivot Table?\n",
    "\n",
    "A **pivot table** is a way to **summarize and reorganize data** so you can easily see patterns or comparisons.\n",
    "\n",
    "Imagine you have a big table of data with many rows, like sales records that include the product, region, and amount sold. A pivot table lets you:\n",
    "\n",
    "* Group the data by one or more categories (like grouping by product and region).\n",
    "* Show the results in a new table where rows and columns represent those groups.\n",
    "* Calculate summary statistics (like sums, averages, counts) for the grouped data.\n",
    "\n",
    "---\n",
    "\n",
    "### Why Use a Pivot Table?\n",
    "\n",
    "* To **quickly analyze** how data is distributed across different categories.\n",
    "* To **compare values** across two or more factors easily.\n",
    "* To **turn long data into a more readable, table format**.\n",
    "* To **see summaries** of large datasets without writing complex code.\n",
    "\n",
    "---\n",
    "\n",
    "### How It Works (Conceptually)\n",
    "\n",
    "1. You decide which columns you want as **row labels** (e.g., products).\n",
    "2. You decide which columns you want as **column labels** (e.g., regions).\n",
    "3. You pick what kind of summary you want (e.g., total sales, average sales).\n",
    "4. The pivot table then arranges your data into a grid, with row categories down the side, column categories across the top, and the summarized values in the middle.\n",
    "\n",
    "---\n",
    "\n",
    "### Example in Simple Terms\n",
    "\n",
    "If you have sales data for different products in different cities, a pivot table can show:\n",
    "\n",
    "* Rows as product names\n",
    "* Columns as cities\n",
    "* Values as the total sales amount for each product in each city\n",
    "\n",
    "So you can quickly see which product sells best where.\n",
    "\n",
    "\n"
   ]
  },
  {
   "cell_type": "code",
   "execution_count": 1,
   "id": "89f15513",
   "metadata": {},
   "outputs": [
    {
     "name": "stdout",
     "output_type": "stream",
     "text": [
      "Pivot Table:\n",
      "\n",
      " region        east  north  south\n",
      "sales_person                    \n",
      "a              800   1000   5000\n",
      "b             1500   2000      0\n",
      "c                0      0    250\n"
     ]
    }
   ],
   "source": [
    "#pivot table\n",
    "#summarization, reorganization, manipulation of data\n",
    "import pandas as pd\n",
    "\n",
    "data = {\n",
    "    \"sales_person\":[\"a\",\"b\",\"a\",\"a\",\"b\",\"c\"],\n",
    "    \"region\":[\"north\",\"north\",\"south\",\"east\",\"east\",\"south\"],\n",
    "    \"sales\":[1000,2000,5000,800,1500,250]\n",
    "}\n",
    "\n",
    "df = pd.DataFrame(data)\n",
    "\n",
    "#pivot table for summarizing total sales by sales_person and region\n",
    "pivot_table = pd.pivot_table(df, values='sales', index='sales_person', columns='region', aggfunc='sum', fill_value=0)\n",
    "#fill_value=0 replaces NaN with 0\n",
    "print(\"Pivot Table:\\n\\n\", pivot_table)"
   ]
  }
 ],
 "metadata": {
  "kernelspec": {
   "display_name": "venv",
   "language": "python",
   "name": "python3"
  },
  "language_info": {
   "codemirror_mode": {
    "name": "ipython",
    "version": 3
   },
   "file_extension": ".py",
   "mimetype": "text/x-python",
   "name": "python",
   "nbconvert_exporter": "python",
   "pygments_lexer": "ipython3",
   "version": "3.13.1"
  }
 },
 "nbformat": 4,
 "nbformat_minor": 5
}
