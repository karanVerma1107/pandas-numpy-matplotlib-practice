{
 "cells": [
  {
   "cell_type": "code",
   "execution_count": 11,
   "id": "5e2b7277",
   "metadata": {},
   "outputs": [
    {
     "name": "stdout",
     "output_type": "stream",
     "text": [
      "First 5 rows of the DataFrame:\n",
      "      col1  col2  col3  col4\n",
      "row1     0     1     2     3\n",
      "row2     4     5     6     7\n",
      "row3     8     9    10    11\n",
      "row4    12    13    14    15\n",
      "row5    16    17    18    19\n",
      "Last 5 rows of the DataFrame:\n",
      "      col1  col2  col3  col4\n",
      "row1     0     1     2     3\n",
      "row2     4     5     6     7\n",
      "row3     8     9    10    11\n",
      "row4    12    13    14    15\n",
      "row5    16    17    18    19\n",
      "<class 'pandas.core.frame.DataFrame'>\n",
      "Index: 5 entries, row1 to row5\n",
      "Data columns (total 4 columns):\n",
      " #   Column  Non-Null Count  Dtype\n",
      "---  ------  --------------  -----\n",
      " 0   col1    5 non-null      int64\n",
      " 1   col2    5 non-null      int64\n",
      " 2   col3    5 non-null      int64\n",
      " 3   col4    5 non-null      int64\n",
      "dtypes: int64(4)\n",
      "memory usage: 200.0+ bytes\n",
      "Information about the DataFrame:\n",
      "None\n",
      "Statistical summary of the DataFrame:\n",
      "            col1       col2       col3       col4\n",
      "count   5.000000   5.000000   5.000000   5.000000\n",
      "mean    8.000000   9.000000  10.000000  11.000000\n",
      "std     6.324555   6.324555   6.324555   6.324555\n",
      "min     0.000000   1.000000   2.000000   3.000000\n",
      "25%     4.000000   5.000000   6.000000   7.000000\n",
      "50%     8.000000   9.000000  10.000000  11.000000\n",
      "75%    12.000000  13.000000  14.000000  15.000000\n",
      "max    16.000000  17.000000  18.000000  19.000000\n"
     ]
    }
   ],
   "source": [
    "import pandas as pd\n",
    "import numpy as np\n",
    "\n",
    "\n",
    "\n",
    "x= np.arange(0,20).reshape(5,4)\n",
    "#Suppose you want to read a ecxel file with a specific sheet name\n",
    "#then Panda will read the file and return a DataFrame\n",
    "#it will read it as a Datafreame object \n",
    "#we can create a Dataframe using pandas library\n",
    "\n",
    "\n",
    "#Here we are creating a DataFrame using the numpy array x\n",
    "#index is the row names and columns are the column names, if index and colomns are mistakenly written then it will throw an error \n",
    "#example if rows are 5 then there should be 5 index names and if columns are 4 then there should be 4 column names\n",
    "df = pd.DataFrame(x, index = ['row1', 'row2', 'row3', 'row4', 'row5'], columns = ['col1', 'col2', 'col3', 'col4'])\n",
    "\n",
    "\n",
    "\n",
    "#df.head() will return the first 5 rows of the DataFrame\n",
    "print(\"First 5 rows of the DataFrame:\", df.head(), sep='\\n')\n",
    "\n",
    "#df.tail() will return the last 5 rows of the DataFrame\n",
    "print(\"Last 5 rows of the DataFrame:\", df.tail(), sep='\\n')\n",
    "\n",
    "#if u want to see specific number of first rows then df.head(\"number of rows\") will return that many rows\n",
    "df.head(3)  # Returns the first 3 rows\n",
    "\n",
    "\n",
    "#df.info() will return the information about the DataFrame\n",
    "print(\"Information about the DataFrame:\", df.info(), sep='\\n')\n",
    "\n",
    "\n",
    "#df.describe() will return the statistical summary of the DataFrame\n",
    "print(\"Statistical summary of the DataFrame:\", df.describe(), sep='\\n')"
   ]
  },
  {
   "cell_type": "code",
   "execution_count": null,
   "id": "3471acb4",
   "metadata": {},
   "outputs": [
    {
     "name": "stdout",
     "output_type": "stream",
     "text": [
      "Type of l (multiple columns): <class 'pandas.core.frame.DataFrame'>\n",
      "Type of s (single column): <class 'pandas.core.series.Series'>\n"
     ]
    },
    {
     "data": {
      "text/html": [
       "<div>\n",
       "<style scoped>\n",
       "    .dataframe tbody tr th:only-of-type {\n",
       "        vertical-align: middle;\n",
       "    }\n",
       "\n",
       "    .dataframe tbody tr th {\n",
       "        vertical-align: top;\n",
       "    }\n",
       "\n",
       "    .dataframe thead th {\n",
       "        text-align: right;\n",
       "    }\n",
       "</style>\n",
       "<table border=\"1\" class=\"dataframe\">\n",
       "  <thead>\n",
       "    <tr style=\"text-align: right;\">\n",
       "      <th></th>\n",
       "      <th>col2</th>\n",
       "      <th>col3</th>\n",
       "      <th>col4</th>\n",
       "    </tr>\n",
       "  </thead>\n",
       "  <tbody>\n",
       "    <tr>\n",
       "      <th>row2</th>\n",
       "      <td>5</td>\n",
       "      <td>6</td>\n",
       "      <td>7</td>\n",
       "    </tr>\n",
       "    <tr>\n",
       "      <th>row3</th>\n",
       "      <td>9</td>\n",
       "      <td>10</td>\n",
       "      <td>11</td>\n",
       "    </tr>\n",
       "    <tr>\n",
       "      <th>row4</th>\n",
       "      <td>13</td>\n",
       "      <td>14</td>\n",
       "      <td>15</td>\n",
       "    </tr>\n",
       "  </tbody>\n",
       "</table>\n",
       "</div>"
      ],
      "text/plain": [
       "      col2  col3  col4\n",
       "row2     5     6     7\n",
       "row3     9    10    11\n",
       "row4    13    14    15"
      ]
     },
     "execution_count": 19,
     "metadata": {},
     "output_type": "execute_result"
    }
   ],
   "source": [
    "#indexing \n",
    "#columname, rowindex[loc], rowindex columnindex iloc\n",
    "df.head()\n",
    "\n",
    "#indexing columns, for multiple columns we can use double square brackets\n",
    "l = df[['col1', 'col2','col3']]  # Returns the first three columns\n",
    "\n",
    "#for single column we can use single square brackets\n",
    "s =df['col1']\n",
    "\n",
    "#now if we see type of l and s\n",
    "\n",
    "print(\"Type of l (multiple columns):\", type(l))\n",
    "print(\"Type of s (single column):\", type(s))\n",
    "\n",
    "#l is a DataFrame and s is a Series, DataFrame is a 2D structure and Series is a 1D structure\n",
    "\n",
    "#using loc and iloc for indexing\n",
    "df.loc['row1']  # Returns the first row\n",
    "df.loc[['row1', 'row2']]  # Returns the first two rows\n",
    "\n",
    "\n",
    "#using iloc we can access rows and columns by their integer index\n",
    "df.head()\n",
    "\n",
    "#suppose we want middle rows and middle  columns\n",
    "df.iloc[1:4,1:4] #inside iloc we have a comma left side is for rows and right side is for columns\n"
   ]
  },
  {
   "cell_type": "code",
   "execution_count": 20,
   "id": "5ff55a7e",
   "metadata": {},
   "outputs": [
    {
     "data": {
      "text/plain": [
       "array([[ 1,  2,  3],\n",
       "       [ 5,  6,  7],\n",
       "       [ 9, 10, 11],\n",
       "       [13, 14, 15],\n",
       "       [17, 18, 19]])"
      ]
     },
     "execution_count": 20,
     "metadata": {},
     "output_type": "execute_result"
    }
   ],
   "source": [
    "#converting DataFrame to numpy array\n",
    "df.iloc[:,1:].values  # Returns the values of the DataFrame as a numpy array"
   ]
  },
  {
   "cell_type": "code",
   "execution_count": 23,
   "id": "bb8a6bbc",
   "metadata": {},
   "outputs": [
    {
     "name": "stdout",
     "output_type": "stream",
     "text": [
      "Null values in the DataFrame:\n",
      "col1    0\n",
      "col2    0\n",
      "col3    0\n",
      "col4    0\n",
      "dtype: int64\n",
      "Elements greater than 3 in the DataFrame:\n",
      "      col1  col2  col3  col4\n",
      "row1   NaN   NaN   NaN   NaN\n",
      "row2   4.0   5.0   6.0   7.0\n",
      "row3   8.0   9.0  10.0  11.0\n",
      "row4  12.0  13.0  14.0  15.0\n",
      "row5  16.0  17.0  18.0  19.0\n"
     ]
    },
    {
     "data": {
      "text/html": [
       "<div>\n",
       "<style scoped>\n",
       "    .dataframe tbody tr th:only-of-type {\n",
       "        vertical-align: middle;\n",
       "    }\n",
       "\n",
       "    .dataframe tbody tr th {\n",
       "        vertical-align: top;\n",
       "    }\n",
       "\n",
       "    .dataframe thead th {\n",
       "        text-align: right;\n",
       "    }\n",
       "</style>\n",
       "<table border=\"1\" class=\"dataframe\">\n",
       "  <thead>\n",
       "    <tr style=\"text-align: right;\">\n",
       "      <th></th>\n",
       "      <th>col1</th>\n",
       "      <th>col2</th>\n",
       "      <th>col3</th>\n",
       "      <th>col4</th>\n",
       "    </tr>\n",
       "  </thead>\n",
       "  <tbody>\n",
       "    <tr>\n",
       "      <th>row2</th>\n",
       "      <td>4</td>\n",
       "      <td>5</td>\n",
       "      <td>6</td>\n",
       "      <td>7</td>\n",
       "    </tr>\n",
       "    <tr>\n",
       "      <th>row3</th>\n",
       "      <td>8</td>\n",
       "      <td>9</td>\n",
       "      <td>10</td>\n",
       "      <td>11</td>\n",
       "    </tr>\n",
       "    <tr>\n",
       "      <th>row4</th>\n",
       "      <td>12</td>\n",
       "      <td>13</td>\n",
       "      <td>14</td>\n",
       "      <td>15</td>\n",
       "    </tr>\n",
       "    <tr>\n",
       "      <th>row5</th>\n",
       "      <td>16</td>\n",
       "      <td>17</td>\n",
       "      <td>18</td>\n",
       "      <td>19</td>\n",
       "    </tr>\n",
       "  </tbody>\n",
       "</table>\n",
       "</div>"
      ],
      "text/plain": [
       "      col1  col2  col3  col4\n",
       "row2     4     5     6     7\n",
       "row3     8     9    10    11\n",
       "row4    12    13    14    15\n",
       "row5    16    17    18    19"
      ]
     },
     "execution_count": 23,
     "metadata": {},
     "output_type": "execute_result"
    }
   ],
   "source": [
    "#to check if null values are present in the DataFrame\n",
    "print(\"Null values in the DataFrame:\", df.isnull().sum(), sep='\\n')\n",
    "#here isnull().sum() will return the number of null values in each column\n",
    "\n",
    "\n",
    "\n",
    "#if we want elements greater than 3 then we can do it like\n",
    "print(\"Elements greater than 3 in the DataFrame:\", df[df > 3], sep='\\n')\n",
    "\n",
    "\n",
    "df[df['col1'] > 3]  # Returns the rows where col1 is greater than 3"
   ]
  }
 ],
 "metadata": {
  "kernelspec": {
   "display_name": "venv",
   "language": "python",
   "name": "python3"
  },
  "language_info": {
   "codemirror_mode": {
    "name": "ipython",
    "version": 3
   },
   "file_extension": ".py",
   "mimetype": "text/x-python",
   "name": "python",
   "nbconvert_exporter": "python",
   "pygments_lexer": "ipython3",
   "version": "3.13.1"
  }
 },
 "nbformat": 4,
 "nbformat_minor": 5
}
