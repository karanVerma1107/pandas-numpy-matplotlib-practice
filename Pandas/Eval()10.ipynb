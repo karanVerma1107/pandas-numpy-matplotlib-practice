{
 "cells": [
  {
   "cell_type": "markdown",
   "id": "11353cdd",
   "metadata": {},
   "source": [
    "Eval function is use to evaluate python expression which are written as strings"
   ]
  },
  {
   "cell_type": "code",
   "execution_count": null,
   "id": "9004790d",
   "metadata": {},
   "outputs": [
    {
     "data": {
      "text/plain": [
       "0.07633587786259542"
      ]
     },
     "execution_count": 1,
     "metadata": {},
     "output_type": "execute_result"
    }
   ],
   "source": [
    "eval(\"5*2*3/393\")\n",
    "\n",
    "#eval function mainly used to evaluate expressions from a string-based input.\n",
    "# It can be used to execute Python expressions dynamically."
   ]
  },
  {
   "cell_type": "code",
   "execution_count": 1,
   "id": "4c7d3128",
   "metadata": {},
   "outputs": [
    {
     "name": "stdout",
     "output_type": "stream",
     "text": [
      "89.2 ms ± 3.28 ms per loop (mean ± std. dev. of 7 runs, 10 loops each)\n",
      "84.7 ms ± 774 μs per loop (mean ± std. dev. of 7 runs, 10 loops each)\n",
      "True\n"
     ]
    }
   ],
   "source": [
    "# 1. Import required libraries\n",
    "import pandas as pd\n",
    "import numpy as np\n",
    "\n",
    "# 2. Set number of rows and columns\n",
    "nrows, ncols = 100000, 100  # 100,000 rows and 100 columns\n",
    "\n",
    "# 3. Create a random number generator for reproducibility\n",
    "rng = np.random.RandomState(42)\n",
    "\n",
    "# 4. Create 4 DataFrames filled with random values (same shape)\n",
    "df1, df2, df3, df4 = (pd.DataFrame(rng.rand(nrows, ncols)) for i in range(4))\n",
    "\n",
    "# ----------------------------- #\n",
    "#        NORMAL ADDITION        #\n",
    "# ----------------------------- #\n",
    "\n",
    "# 5. Add all 4 DataFrames using regular '+' operator\n",
    "# This approach is easy to understand but slower and uses more memory\n",
    "# %timeit helps to measure execution time of this operation\n",
    "%timeit df1 + df2 + df3 + df4\n",
    "# Example output: 10 loops, best of 3: 87.1 ms per loop\n",
    "\n",
    "# ----------------------------- #\n",
    "#         EVAL ADDITION         #\n",
    "# ----------------------------- #\n",
    "\n",
    "# 6. Add all 4 DataFrames using pd.eval() with string expression\n",
    "# This method is faster and uses less memory because it avoids creating temporary intermediate DataFrames\n",
    "%timeit pd.eval('df1 + df2 + df3 + df4')\n",
    "# Example output: 10 loops, best of 3: 42.2 ms per loop\n",
    "\n",
    "# ----------------------------- #\n",
    "#      VALIDATION CHECK         #\n",
    "# ----------------------------- #\n",
    "\n",
    "# 7. Check if both methods give same result (should return True)\n",
    "# np.allclose() checks if the two DataFrames have nearly the same values\n",
    "print(np.allclose(df1 + df2 + df3 + df4, pd.eval('df1 + df2 + df3 + df4')))\n",
    "# Output: True\n"
   ]
  },
  {
   "cell_type": "markdown",
   "id": "8954eeb2",
   "metadata": {},
   "source": [
    "\n",
    "\n",
    "### 🧠 What is `pd.eval()` doing?\n",
    "\n",
    "* **`pd.eval()`** evaluates a string expression involving pandas objects.\n",
    "* It is **faster** than regular operations in some cases because:\n",
    "\n",
    "  * It **avoids temporary objects** in memory.\n",
    "  * It uses **NumExpr** (a fast numerical expression evaluator under the hood).\n",
    "\n",
    "---\n",
    "\n",
    "### ✅ Use Cases for `pd.eval()`\n",
    "\n",
    "1. **Big DataFrames**: When you’re working with large datasets and want to **speed up** arithmetic or logical operations.\n",
    "2. **Memory Efficiency**: Useful if you want to **save RAM** during computations.\n",
    "3. **Cleaner Code**: You can perform multiple operations in one line using a string.\n",
    "\n",
    "---\n",
    "\n",
    "### ⚠️ Note\n",
    "\n",
    "* Use `pd.eval()` mostly for **arithmetic or logical** operations.\n",
    "* Avoid for complex operations that require Python functions or custom logic.\n",
    "\n"
   ]
  },
  {
   "cell_type": "code",
   "execution_count": 2,
   "id": "8c2d46c8",
   "metadata": {},
   "outputs": [
    {
     "name": "stdout",
     "output_type": "stream",
     "text": [
      "Arithmetic check: True\n",
      "Comparison check: True\n",
      "Bitwise check: True\n",
      "Boolean check: True\n",
      "Attribute/Index access check: True\n",
      "\n",
      "All pd.eval() tests passed successfully!\n"
     ]
    }
   ],
   "source": [
    "import pandas as pd\n",
    "import numpy as np\n",
    "\n",
    "# 1. Create a random number generator\n",
    "rng = np.random.RandomState(42)\n",
    "\n",
    "# 2. Create 5 DataFrames with random integers between 0 and 1000\n",
    "df1, df2, df3, df4, df5 = (pd.DataFrame(rng.randint(0, 1000, (100, 3))) for _ in range(5))\n",
    "\n",
    "# ------------------------ Arithmetic Operators ------------------------\n",
    "\n",
    "# 3. Normal way to do arithmetic operations on DataFrames\n",
    "result_arith_normal = -df1 * df2 / (df3 + df4) - df5\n",
    "\n",
    "# 4. Using pd.eval() to do the same operation as a string (faster and uses less memory)\n",
    "result_arith_eval = pd.eval('-df1 * df2 / (df3 + df4) - df5')\n",
    "\n",
    "# 5. Check if results are the same\n",
    "print(\"Arithmetic check:\", np.allclose(result_arith_normal, result_arith_eval))  # True\n",
    "\n",
    "# ------------------------ Comparison Operators ------------------------\n",
    "\n",
    "# 6. Regular way to compare values in DataFrames\n",
    "result_comp_normal = (df1 < df2) & (df2 <= df3) & (df3 != df4)\n",
    "\n",
    "# 7. Using pd.eval() with chained comparisons\n",
    "result_comp_eval = pd.eval('df1 < df2 <= df3 != df4')\n",
    "\n",
    "# 8. Check if results are the same\n",
    "print(\"Comparison check:\", np.allclose(result_comp_normal, result_comp_eval))  # True\n",
    "\n",
    "# ------------------------ Bitwise Operators ------------------------\n",
    "\n",
    "# 9. Regular bitwise logic\n",
    "result_bitwise_normal = (df1 < 0.5) & (df2 < 0.5) | (df3 < df4)\n",
    "\n",
    "# 10. Same expression using pd.eval()\n",
    "result_bitwise_eval = pd.eval('(df1 < 0.5) & (df2 < 0.5) | (df3 < df4)')\n",
    "\n",
    "# 11. Check if results are the same\n",
    "print(\"Bitwise check:\", np.allclose(result_bitwise_normal, result_bitwise_eval))  # True\n",
    "\n",
    "# ------------------------ Boolean keywords ------------------------\n",
    "\n",
    "# 12. Using `and`/`or` inside eval string (not valid outside eval)\n",
    "result_boolean_eval = pd.eval('(df1 < 0.5) and (df2 < 0.5) or (df3 < df4)')\n",
    "\n",
    "# 13. Check if it matches previous result\n",
    "print(\"Boolean check:\", np.allclose(result_bitwise_normal, result_boolean_eval))  # True\n",
    "\n",
    "# ------------------------ Attribute and Index Access ------------------------\n",
    "\n",
    "# 14. Access attributes and index values normally\n",
    "result_index_normal = df2.T[0] + df3.iloc[1]\n",
    "\n",
    "# 15. Same using pd.eval\n",
    "result_index_eval = pd.eval('df2.T[0] + df3.iloc[1]')\n",
    "\n",
    "# 16. Check if results are the same\n",
    "print(\"Attribute/Index access check:\", np.allclose(result_index_normal, result_index_eval))  # True\n",
    "\n",
    "# ------------------------ Unsupported Operations ------------------------\n",
    "\n",
    "# 17. Examples of unsupported operations (will raise errors if you uncomment)\n",
    "# result_error = pd.eval('np.sin(df1)')  # ❌ Function calls not allowed\n",
    "# result_error = pd.eval('for i in range(3): df1 + i')  # ❌ Loops not allowed\n",
    "# result_error = pd.eval('if df1[0][0] > 10: df1')  # ❌ Conditionals not allowed\n",
    "\n",
    "print(\"\\nAll pd.eval() tests passed successfully!\")\n"
   ]
  },
  {
   "cell_type": "markdown",
   "id": "1b4b5244",
   "metadata": {},
   "source": [
    "What This Shows:\n",
    "\n",
    "✅ pd.eval() can safely and efficiently handle arithmetic, comparisons, bitwise logic, boolean keywords, and attribute/index access.\n",
    "\n",
    "🚫 Cannot be used with function calls, loops, or conditional statements.\n",
    "\n",
    "🛠 Useful for speeding up complex expressions involving large DataFrames."
   ]
  },
  {
   "cell_type": "code",
   "execution_count": 3,
   "id": "0d7dad55",
   "metadata": {},
   "outputs": [
    {
     "name": "stdout",
     "output_type": "stream",
     "text": [
      "Column-wise expression check: True\n",
      "After creating column D:\n",
      "          A         B         C         D\n",
      "0  0.37454  0.950714  0.731994  1.810472\n",
      "After modifying column D:\n",
      "          A         B         C        D\n",
      "0  0.37454  0.950714  0.731994 -0.78713\n",
      "Local variable with @ check: True\n"
     ]
    }
   ],
   "source": [
    "import pandas as pd\n",
    "import numpy as np\n",
    "\n",
    "# 1. Create a random number generator with a fixed seed for reproducibility\n",
    "rng = np.random.RandomState(42)\n",
    "\n",
    "# 2. Create a DataFrame with 1000 rows and 3 columns named 'A', 'B', and 'C'\n",
    "df = pd.DataFrame(rng.rand(1000, 3), columns=['A', 'B', 'C'])\n",
    "\n",
    "# 3. Traditional way: Calculate a new result using values from columns A, B, and C\n",
    "#    Formula: (A + B) / (C - 1)\n",
    "result1 = (df['A'] + df['B']) / (df['C'] - 1)\n",
    "\n",
    "# 4. Same expression using pd.eval() — access columns using dot notation (df.A)\n",
    "#    This is slightly more efficient but less readable than df.eval\n",
    "result2 = pd.eval(\"(df.A + df.B) / (df.C - 1)\")\n",
    "\n",
    "# 5. Even cleaner and shorter: Use DataFrame.eval() — directly use column names as variables\n",
    "#    This avoids writing df['A'] or df.A repeatedly\n",
    "result3 = df.eval(\"(A + B) / (C - 1)\")\n",
    "\n",
    "# 6. Confirm all three approaches give the same result using np.allclose() — checks if values are almost equal\n",
    "print(\"Column-wise expression check:\", np.allclose(result1, result2) and np.allclose(result1, result3))  # True\n",
    "\n",
    "# 7. Now let's assign a new column 'D' in the DataFrame using df.eval()\n",
    "#    This adds a new column: D = (A + B) / C\n",
    "#    Set inplace=True to apply the result directly to the original DataFrame\n",
    "df.eval(\"D = (A + B) / C\", inplace=True)\n",
    "print(\"After creating column D:\\n\", df.head(1))  # Check first row to see new column D\n",
    "\n",
    "# 8. Modify the existing column 'D' using a new formula\n",
    "#    Here, we overwrite the previous 'D' with: D = (A - B) / C\n",
    "df.eval(\"D = (A - B) / C\", inplace=True)\n",
    "print(\"After modifying column D:\\n\", df.head(1))  # Check updated values in column D\n",
    "\n",
    "# 9. Now define a local Python variable (outside the DataFrame)\n",
    "#    This is the row-wise mean of all columns for each row\n",
    "column_mean = df.mean(axis=1)  # axis=1 means row-wise mean\n",
    "\n",
    "# 10. Add this local variable to column A using traditional syntax\n",
    "result4 = df['A'] + column_mean\n",
    "\n",
    "# 11. Use df.eval() to do the same operation — but now refer to the Python variable using '@'\n",
    "#     The '@' symbol tells Pandas to look for a Python variable, not a column\n",
    "result5 = df.eval(\"A + @column_mean\")\n",
    "\n",
    "# 12. Confirm that both methods produce the same result\n",
    "print(\"Local variable with @ check:\", np.allclose(result4, result5))  # True\n"
   ]
  }
 ],
 "metadata": {
  "kernelspec": {
   "display_name": "venv",
   "language": "python",
   "name": "python3"
  },
  "language_info": {
   "codemirror_mode": {
    "name": "ipython",
    "version": 3
   },
   "file_extension": ".py",
   "mimetype": "text/x-python",
   "name": "python",
   "nbconvert_exporter": "python",
   "pygments_lexer": "ipython3",
   "version": "3.13.1"
  }
 },
 "nbformat": 4,
 "nbformat_minor": 5
}
