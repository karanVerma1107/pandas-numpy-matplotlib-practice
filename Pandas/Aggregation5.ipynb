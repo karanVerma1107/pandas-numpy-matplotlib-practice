{
 "cells": [
  {
   "cell_type": "markdown",
   "id": "dafdcfe1",
   "metadata": {},
   "source": [
    "📊 What is Aggregation in Pandas?\n",
    "\n",
    "Aggregation in pandas means summarizing or combining data to get meaningful insights — usually by applying functions like:\n",
    "\n",
    "sum() → total\n",
    "\n",
    "mean() → average\n",
    "\n",
    "max(), min() → highest/lowest\n",
    "\n",
    "count() → number of entries\n",
    "\n",
    "median(), std() → median, standard deviation, etc.\n",
    "\n",
    "🧠 Why use Aggregation?\n",
    "To answer questions like:\n",
    "\n",
    "What is the average score of students?\n",
    "\n",
    "How many sales per region?\n",
    "\n",
    "What is the total salary per department?\n",
    "\n",
    "🔹 Common ways to aggregate:\n",
    "\n",
    "On entire DataFrame or column:\n",
    "df['Marks'].mean()\n",
    "\n",
    "Group-wise using groupby():\n",
    "\n",
    "df.groupby('Class')['Marks'].sum()\n",
    "\n",
    "Multiple functions with agg():\n",
    "\n",
    "df['Marks'].agg(['mean', 'max', 'min'])\n",
    "\n",
    "📌 In short:\n",
    "Aggregation = Applying summary functions to get high-level insights from detailed data."
   ]
  },
  {
   "cell_type": "code",
   "execution_count": 3,
   "id": "c9ecbb32",
   "metadata": {},
   "outputs": [
    {
     "name": "stdout",
     "output_type": "stream",
     "text": [
      "series:\n",
      "\n",
      " 0    0.374540\n",
      "1    0.950714\n",
      "2    0.731994\n",
      "3    0.598658\n",
      "4    0.156019\n",
      "dtype: float64\n",
      "Sum: 2.811925491708157\n",
      "Mean: 0.5623850983416314\n"
     ]
    }
   ],
   "source": [
    "# Aggregation on a Pandas Series (like a single column)\n",
    "import numpy as np\n",
    "import pandas as pd\n",
    "\n",
    "# Create a Series with 5 random numbers using numpy\n",
    "rng = np.random.RandomState(42)\n",
    "ser = pd.Series(rng.rand(5))\n",
    "\n",
    "# View the series\n",
    "print(\"series:\\n\\n\",ser)\n",
    "\n",
    "# Sum of all values in the series\n",
    "print(\"Sum:\", ser.sum())  # Adds all 5 numbers\n",
    "\n",
    "# Mean (average) of the values\n",
    "print(\"Mean:\", ser.mean())  # Adds and divides by 5\n"
   ]
  },
  {
   "cell_type": "code",
   "execution_count": 4,
   "id": "bb2e312a",
   "metadata": {},
   "outputs": [
    {
     "name": "stdout",
     "output_type": "stream",
     "text": [
      "printing df\n",
      "\n",
      "           A         B\n",
      "0  0.155995  0.020584\n",
      "1  0.058084  0.969910\n",
      "2  0.866176  0.832443\n",
      "3  0.601115  0.212339\n",
      "4  0.708073  0.181825\n",
      "Mean of each column:\n",
      "A    0.477888\n",
      "B    0.443420\n",
      "dtype: float64\n",
      "Mean of each row:\n",
      "0    0.088290\n",
      "1    0.513997\n",
      "2    0.849309\n",
      "3    0.406727\n",
      "4    0.444949\n",
      "dtype: float64\n"
     ]
    }
   ],
   "source": [
    "#Aggregation on a DataFrame (like a table with multiple columns)\n",
    "# Create a DataFrame with 2 columns 'A' and 'B'\n",
    "df = pd.DataFrame({\n",
    "    'A': rng.rand(5),\n",
    "    'B': rng.rand(5)\n",
    "})\n",
    "\n",
    "# Show the dataframe\n",
    "print(\"printing df\\n\\n\",df)\n",
    "\n",
    "# Mean of each column (default: axis=0 → columns)\n",
    "print(\"Mean of each column:\")\n",
    "print(df.mean())  # One mean for column A, one for B\n",
    "\n",
    "# Mean of each row (axis=1 or 'columns')\n",
    "print(\"Mean of each row:\")\n",
    "print(df.mean(axis='columns'))  # One mean per row\n"
   ]
  },
  {
   "cell_type": "markdown",
   "id": "67e18270",
   "metadata": {},
   "source": [
    "| Aggregation | What it does              |\n",
    "| ----------- | ------------------------- |\n",
    "| `count()`   | Count of values           |\n",
    "| `sum()`     | Adds all values           |\n",
    "| `mean()`    | Average value             |\n",
    "| `median()`  | Middle value              |\n",
    "| `min()`     | Smallest                  |\n",
    "| `max()`     | Largest                   |\n",
    "| `std()`     | Standard deviation        |\n",
    "| `var()`     | Variance                  |\n",
    "| `mad()`     | Mean absolute deviation   |\n",
    "| `prod()`    | Product of all values     |\n",
    "| `first()`   | First value in the column |\n",
    "| `last()`    | Last value in the column  |\n"
   ]
  }
 ],
 "metadata": {
  "kernelspec": {
   "display_name": "venv",
   "language": "python",
   "name": "python3"
  },
  "language_info": {
   "codemirror_mode": {
    "name": "ipython",
    "version": 3
   },
   "file_extension": ".py",
   "mimetype": "text/x-python",
   "name": "python",
   "nbconvert_exporter": "python",
   "pygments_lexer": "ipython3",
   "version": "3.13.1"
  }
 },
 "nbformat": 4,
 "nbformat_minor": 5
}
