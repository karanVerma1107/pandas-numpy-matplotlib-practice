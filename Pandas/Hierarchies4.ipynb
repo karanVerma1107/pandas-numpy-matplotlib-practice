{
 "cells": [
  {
   "cell_type": "code",
   "execution_count": 3,
   "id": "3edf4bd0",
   "metadata": {},
   "outputs": [
    {
     "name": "stdout",
     "output_type": "stream",
     "text": [
      "1  a    1\n",
      "   b    2\n",
      "   c    3\n",
      "2  a    4\n",
      "   b    5\n",
      "   c    6\n",
      "dtype: int64\n"
     ]
    }
   ],
   "source": [
    "import pandas as pd\n",
    "\n",
    "# Creating a Series with hierarchical (MultiIndex) indexing\n",
    "# The outer index is [1, 1, 1, 2, 2, 2]\n",
    "# The inner index is ['a', 'b', 'c', 'a', 'b', 'c']\n",
    "# Together they form a MultiIndex (2-level hierarchy)\n",
    "ser1 = pd.Series(\n",
    "    [1, 2, 3, 4, 5, 6],\n",
    "    index=[\n",
    "        [1, 1, 1, 2, 2, 2],       # Level 0 of the MultiIndex (can be considered as group/category)\n",
    "        ['a', 'b', 'c', 'a', 'b', 'c']  # Level 1 of the MultiIndex (sub-category within each group)\n",
    "    ]\n",
    ")\n",
    "\n",
    "# Display the Series with hierarchical index\n",
    "print(ser1)\n"
   ]
  },
  {
   "cell_type": "code",
   "execution_count": 4,
   "id": "c22fee73",
   "metadata": {},
   "outputs": [
    {
     "name": "stdout",
     "output_type": "stream",
     "text": [
      "first  second\n",
      "1      a         1\n",
      "       b         2\n",
      "       c         3\n",
      "2      a         4\n",
      "       b         5\n",
      "       c         6\n",
      "dtype: int64\n"
     ]
    }
   ],
   "source": [
    "# Naming the levels of the MultiIndex\n",
    "# 'first' will be the name of level 0 (e.g., 1, 2)\n",
    "# 'second' will be the name of level 1 (e.g., 'a', 'b', 'c')\n",
    "ser1.index.names = ['first', 'second']\n",
    "\n",
    "# Display the Series\n",
    "print(ser1)"
   ]
  },
  {
   "cell_type": "code",
   "execution_count": 5,
   "id": "009064d0",
   "metadata": {},
   "outputs": [
    {
     "name": "stdout",
     "output_type": "stream",
     "text": [
      "ser1[1]: second\n",
      "a    1\n",
      "b    2\n",
      "c    3\n",
      "dtype: int64\n",
      "ser1[2]: second\n",
      "a    4\n",
      "b    5\n",
      "c    6\n",
      "dtype: int64\n"
     ]
    }
   ],
   "source": [
    "#you seeing first and secomd as the names of the levels\n",
    "#you can access the first's 1st,2nd,3rd etc. elements\n",
    "print('ser1[1]:', ser1[1])  # Accessing all elements under the first level index 1\n",
    "print('ser1[2]:', ser1[2])  # Accessing all elements under the first level index 2"
   ]
  },
  {
   "cell_type": "code",
   "execution_count": 7,
   "id": "432cf60b",
   "metadata": {},
   "outputs": [
    {
     "name": "stdout",
     "output_type": "stream",
     "text": [
      "ser1[:, \"a\"]:\n",
      " first\n",
      "1    1\n",
      "2    4\n",
      "dtype: int64\n"
     ]
    }
   ],
   "source": [
    "#suppose you want to acess second level index 'a' value\n",
    "print('ser1[:, \"a\"]:\\n', ser1[:, 'a'])  # Accessing all elements under the second level index 'a'"
   ]
  },
  {
   "cell_type": "code",
   "execution_count": 10,
   "id": "5354ca46",
   "metadata": {},
   "outputs": [
    {
     "data": {
      "text/html": [
       "<div>\n",
       "<style scoped>\n",
       "    .dataframe tbody tr th:only-of-type {\n",
       "        vertical-align: middle;\n",
       "    }\n",
       "\n",
       "    .dataframe tbody tr th {\n",
       "        vertical-align: top;\n",
       "    }\n",
       "\n",
       "    .dataframe thead th {\n",
       "        text-align: right;\n",
       "    }\n",
       "</style>\n",
       "<table border=\"1\" class=\"dataframe\">\n",
       "  <thead>\n",
       "    <tr style=\"text-align: right;\">\n",
       "      <th>second</th>\n",
       "      <th>a</th>\n",
       "      <th>b</th>\n",
       "      <th>c</th>\n",
       "    </tr>\n",
       "    <tr>\n",
       "      <th>first</th>\n",
       "      <th></th>\n",
       "      <th></th>\n",
       "      <th></th>\n",
       "    </tr>\n",
       "  </thead>\n",
       "  <tbody>\n",
       "    <tr>\n",
       "      <th>1</th>\n",
       "      <td>1</td>\n",
       "      <td>2</td>\n",
       "      <td>3</td>\n",
       "    </tr>\n",
       "    <tr>\n",
       "      <th>2</th>\n",
       "      <td>4</td>\n",
       "      <td>5</td>\n",
       "      <td>6</td>\n",
       "    </tr>\n",
       "  </tbody>\n",
       "</table>\n",
       "</div>"
      ],
      "text/plain": [
       "second  a  b  c\n",
       "first          \n",
       "1       1  2  3\n",
       "2       4  5  6"
      ]
     },
     "execution_count": 10,
     "metadata": {},
     "output_type": "execute_result"
    }
   ],
   "source": [
    "#converting the Series to a DataFrame\n",
    "df1 = ser1.unstack()  # Unstacking the Series to convert it into a DataFrame\n",
    "df1"
   ]
  },
  {
   "cell_type": "code",
   "execution_count": 18,
   "id": "b0288928",
   "metadata": {},
   "outputs": [
    {
     "name": "stdout",
     "output_type": "stream",
     "text": [
      "second  first\n",
      "a       1        1\n",
      "        2        4\n",
      "b       1        2\n",
      "        2        5\n",
      "c       1        3\n",
      "        2        6\n",
      "dtype: int64\n"
     ]
    },
    {
     "data": {
      "text/plain": [
       "second  first\n",
       "a       1        1\n",
       "b       1        2\n",
       "c       1        3\n",
       "a       2        4\n",
       "b       2        5\n",
       "c       2        6\n",
       "dtype: int64"
      ]
     },
     "execution_count": 18,
     "metadata": {},
     "output_type": "execute_result"
    }
   ],
   "source": [
    "# We can swap the levels of the MultiIndex\n",
    "# This means 'second' becomes the outer level and 'first' becomes the inner level\n",
    "ser2 = ser1.swaplevel()\n",
    "\n",
    "# Now ser2 has MultiIndex with levels: ('second', 'first')\n",
    "# Sorting by level 0 (which is now 'second' after swapping)\n",
    "ser2 = ser2.sort_index(level=0)\n",
    "\n",
    "\n",
    "# Display the result\n",
    "print(ser2)\n",
    "\n",
    "ser2.sort_index(level=1)"
   ]
  },
  {
   "cell_type": "code",
   "execution_count": null,
   "id": "09fbe4cf",
   "metadata": {},
   "outputs": [
    {
     "data": {
      "text/plain": [
       "second\n",
       "a    5\n",
       "b    7\n",
       "c    9\n",
       "dtype: int64"
      ]
     },
     "execution_count": 20,
     "metadata": {},
     "output_type": "execute_result"
    }
   ],
   "source": [
    "#suppose u want to sum all values of \"a\" which is in second level at 0 after sswap\n",
    "ser2.groupby(level=0).sum()  # Summing all values grouped by the first level index (which is now 'second')\n",
    "\n"
   ]
  },
  {
   "cell_type": "code",
   "execution_count": 21,
   "id": "b9a70edf",
   "metadata": {},
   "outputs": [
    {
     "data": {
      "text/plain": [
       "first\n",
       "1     6\n",
       "2    15\n",
       "dtype: int64"
      ]
     },
     "execution_count": 21,
     "metadata": {},
     "output_type": "execute_result"
    }
   ],
   "source": [
    "#suppose u want to summ all values of \"1\" index which is now at 1 index after swap\n",
    "ser2.groupby(level=1).sum()  # Summing all values grouped by the second level index (which is now 'first')"
   ]
  }
 ],
 "metadata": {
  "kernelspec": {
   "display_name": "venv",
   "language": "python",
   "name": "python3"
  },
  "language_info": {
   "codemirror_mode": {
    "name": "ipython",
    "version": 3
   },
   "file_extension": ".py",
   "mimetype": "text/x-python",
   "name": "python",
   "nbconvert_exporter": "python",
   "pygments_lexer": "ipython3",
   "version": "3.13.1"
  }
 },
 "nbformat": 4,
 "nbformat_minor": 5
}
