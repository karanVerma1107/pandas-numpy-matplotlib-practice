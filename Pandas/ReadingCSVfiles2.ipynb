{
 "cells": [
  {
   "cell_type": "markdown",
   "id": "18886216",
   "metadata": {},
   "source": [
    "Reading CSV files is very import while dealing with some real time dataset, here we will learn everything about reading data from files, CSV stands for common seperrated values and we will also learn about StringIO\n",
    "\n",
    "\n",
    "\n",
    "it is not strictly necessary for a CSV file to exist on your local machine to read it — it depends on where you're reading it from and what tools you're using."
   ]
  },
  {
   "cell_type": "code",
   "execution_count": 2,
   "id": "09cb9075",
   "metadata": {},
   "outputs": [
    {
     "name": "stdout",
     "output_type": "stream",
     "text": [
      "📂 Locally present:\n",
      "    sepal_length  sepal_width  petal_length  petal_width species\n",
      "0           5.1          3.5           1.4          0.2  setosa\n",
      "1           4.9          3.0           1.4          0.2  setosa\n",
      "2           4.7          3.2           1.3          0.2  setosa\n",
      "3           4.6          3.1           1.5          0.2  setosa\n",
      "4           5.0          3.6           1.4          0.2  setosa\n",
      "\n",
      "🌐 Globally (online) present:\n",
      "    sepal_length  sepal_width  petal_length  petal_width species\n",
      "0           5.1          3.5           1.4          0.2  setosa\n",
      "1           4.9          3.0           1.4          0.2  setosa\n",
      "2           4.7          3.2           1.3          0.2  setosa\n",
      "3           4.6          3.1           1.5          0.2  setosa\n",
      "4           5.0          3.6           1.4          0.2  setosa\n"
     ]
    }
   ],
   "source": [
    "import pandas as pd\n",
    "import numpy as np\n",
    "\n",
    "\n",
    "# Local file path — assuming iris.csv is in the current directory\n",
    "df_local = pd.read_csv('iris.csv')\n",
    "\n",
    "# Online file URL — Iris dataset from a real GitHub repo\n",
    "df_online = pd.read_csv(\"https://raw.githubusercontent.com/uiuc-cse/data-fa14/gh-pages/data/iris.csv\")\n",
    "\n",
    "# Print both\n",
    "print(\"📂 Locally present:\\n\", df_local.head())\n",
    "print(\"\\n🌐 Globally (online) present:\\n\", df_online.head())"
   ]
  },
  {
   "cell_type": "markdown",
   "id": "b5057e8a",
   "metadata": {},
   "source": [
    "| Feature        | Unit | Description                                                                |\n",
    "| -------------- | ---- | -------------------------------------------------------------------------- |\n",
    "| `sepal_length` | cm   | Length of the **sepal** (outer petal) of the flower.                       |\n",
    "| `sepal_width`  | cm   | Width of the **sepal**.                                                    |\n",
    "| `petal_length` | cm   | Length of the **petal** (inner petal, often more colorful).                |\n",
    "| `petal_width`  | cm   | Width of the **petal**.                                                    |\n",
    "| `species`      | —    | The type of iris flower (e.g., **setosa**, **versicolor**, **virginica**). |\n"
   ]
  },
  {
   "cell_type": "markdown",
   "id": "7618e9b3",
   "metadata": {},
   "source": [
    "🧠 What is StringIO?\n",
    "StringIO stands for \"String Input/Output\".\n",
    "\n",
    "It lets you treat a string as if it were a file — meaning you can read from or write to a string just like you would with an actual file.\n",
    "\n",
    "\n",
    "🔧 What does it do?\n",
    "You can write to a string as if it's a file.\n",
    "\n",
    "You can read from a string as if you're reading from a file.\n",
    "\n",
    "It is especially useful when working with libraries that expect file-like objects, like pandas.read_csv().\n",
    "\n",
    "\n",
    "\n",
    "🧠 What is an in-memory file format?\n",
    "\n",
    "An in-memory file is a temporary file-like object that exists only in RAM (memory) — not on your hard drive. It behaves just like a real file, but is faster and more efficient for temporary tasks.\n",
    "\n"
   ]
  },
  {
   "cell_type": "code",
   "execution_count": null,
   "id": "fcaa4a5f",
   "metadata": {},
   "outputs": [],
   "source": [
    "from io import StringIO\n",
    "\n",
    "# Below is a string that mimics a CSV (Comma-Separated Values) file\n",
    "# It has 3 columns: col1, col2, col3\n",
    "# And 3 rows of data:\n",
    "# Row 1: x, y, 1\n",
    "# Row 2: a, b, 2\n",
    "# Row 3: c, d, 3\n",
    "data = ('col1,col2,col3\\n'\n",
    "        'x,y,1\\n'\n",
    "        'a,b,2\\n'\n",
    "        'c,d,3')\n",
    "\n",
    "# This checks the type of 'data', which is a string representing CSV content\n",
    "type(data)  # Output: <class 'str'>\n",
    "\n",
    "StringIO(data)  # This creates a file-like object from the string\n",
    "\n",
    "pd.read_csv(StringIO(data))  # This reads the CSV data into a DataFrame\n",
    "# Output the DataFrame created from the string CSV\n",
    "\n",
    "\n",
    "#suppose you want to check only a certain column \n",
    "pd.read_csv(StringIO(data), usecols=['col1'])  # This reads only 'col1' from the CSV data\n",
    "\n",
    "# suppose we want to check any two column \n",
    "df3 = pd.read_csv('iris.csv', usecols=['sepal_length', 'sepal_width'])  # This reads only 'sepal_length' and 'sepal_width' from the local csv file\n",
    "\n",
    "\n",
    "#now if we want to make df3 as a new csv file\n",
    "df3.to_csv('df3test.csv')  # This saves the DataFrame df3 to a new CSV file named 'df3test.csv' in local machine/directory\n",
    "\n",
    "\n"
   ]
  },
  {
   "cell_type": "code",
   "execution_count": 16,
   "id": "025c171a",
   "metadata": {},
   "outputs": [
    {
     "name": "stdout",
     "output_type": "stream",
     "text": [
      "<class 'pandas.core.frame.DataFrame'>\n",
      "RangeIndex: 3 entries, 0 to 2\n",
      "Data columns (total 4 columns):\n",
      " #   Column  Non-Null Count  Dtype  \n",
      "---  ------  --------------  -----  \n",
      " 0   col1    3 non-null      object \n",
      " 1   col2    3 non-null      object \n",
      " 2   col3    3 non-null      int64  \n",
      " 3   col4    2 non-null      float64\n",
      "dtypes: float64(1), int64(1), object(2)\n",
      "memory usage: 228.0+ bytes\n"
     ]
    },
    {
     "data": {
      "text/plain": [
       "col1    0\n",
       "col2    0\n",
       "col3    0\n",
       "col4    1\n",
       "dtype: int64"
      ]
     },
     "execution_count": 16,
     "metadata": {},
     "output_type": "execute_result"
    }
   ],
   "source": [
    "data1 = ('col1,col2,col3,col4\\n'\n",
    "            'x,y,1,10\\n'\n",
    "            'a,b,2,20\\n'\n",
    "            'c,d,3'\n",
    "         )\n",
    "#below it will create a new DataFrame from the string data1\n",
    "#as i did not give 4 values in the last row, it will fill NaN for that value\n",
    "df4 = pd.read_csv(StringIO(data1))\n",
    "\n",
    "df4.info()  # This will show the information about the DataFrame df4, including the number of entries, columns, and data types\n",
    "\n",
    "\n",
    "df4.isnull().sum()  # This will count the number of null (NaN) values in each column of df4\n"
   ]
  },
  {
   "cell_type": "markdown",
   "id": "08ed5597",
   "metadata": {},
   "source": [
    "similarly you can read csv file, convert it's data type and also check certain column or rows etc"
   ]
  }
 ],
 "metadata": {
  "kernelspec": {
   "display_name": "venv",
   "language": "python",
   "name": "python3"
  },
  "language_info": {
   "codemirror_mode": {
    "name": "ipython",
    "version": 3
   },
   "file_extension": ".py",
   "mimetype": "text/x-python",
   "name": "python",
   "nbconvert_exporter": "python",
   "pygments_lexer": "ipython3",
   "version": "3.13.1"
  }
 },
 "nbformat": 4,
 "nbformat_minor": 5
}
