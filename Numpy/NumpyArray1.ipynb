{
 "cells": [
  {
   "cell_type": "code",
   "execution_count": 24,
   "id": "96fb34b1",
   "metadata": {},
   "outputs": [
    {
     "name": "stdout",
     "output_type": "stream",
     "text": [
      "<class 'numpy.ndarray'>\n",
      "[10 20 30 40 50]\n"
     ]
    }
   ],
   "source": [
    "import numpy as np # import library\n",
    "\n",
    "#making a python list as numpy array\n",
    "my_list = [1, 2, 3, 4, 5]\n",
    "array= np.array(my_list) # converting list to numpy array\n",
    "print(type(array)) # getting the type of the array\n",
    "\n",
    "arr = np.array([10, 20, 30, 40, 50]) #Creates a numpy array\n",
    "print(arr) # Prints the numpy array"
   ]
  },
  {
   "cell_type": "code",
   "execution_count": 18,
   "id": "2365045e",
   "metadata": {},
   "outputs": [
    {
     "name": "stdout",
     "output_type": "stream",
     "text": [
      "[[ 1  2  3  4  5]\n",
      " [ 6  7  8  9 10]\n",
      " [11 12 13 14 15]]\n",
      "shape of 2d array (3, 5)\n"
     ]
    }
   ],
   "source": [
    "list1 = [1, 2, 3, 4, 5] # Creates a list\n",
    "list2 = [6, 7, 8, 9, 10] # Creates another list\n",
    "list3 = [11, 12, 13, 14, 15] # Creates a third list\n",
    "\n",
    "\n",
    "#it opens with two square brackets and closes with two square brackets\n",
    "twoDarray = np.array([list1, list2, list3]) # Creates a 2D numpy array from the lists\n",
    "print(twoDarray) # Prints the 2D numpy array\n",
    "print(\"shape of 2d array\",twoDarray.shape) # Returns the shape of the 2D array"
   ]
  },
  {
   "cell_type": "code",
   "execution_count": null,
   "id": "84d94ca8",
   "metadata": {},
   "outputs": [
    {
     "name": "stdout",
     "output_type": "stream",
     "text": [
      "value of 3rd index in 1D array is 10\n",
      "value of 3rd index in 1D array after change is 10\n",
      "value of 2nd to 4th index in 1D array is [ 2  3 10]\n",
      "value of 2nd to 4th index in 1D array using negative indexing is [ 2  3 10]\n",
      "only print 1st col of 2D array, index start from 0 and we are printing 1st col [ 2  7 12]\n",
      "only print 0th col of 2D array, index start from 0 and we are printing 0th col [ 1  6 11]\n",
      "printing 7 8 12 13 [[ 7  8]\n",
      " [12 13]]\n",
      "printing 9 10 14 15 [[ 9 10]\n",
      " [14 15]]\n"
     ]
    }
   ],
   "source": [
    "#indexing starts from 0\n",
    "print(\"value of 3rd index in 1D array is\", array[3])#it was 4 but after changin index it changes\n",
    "\n",
    "#we can also change the value of an index\n",
    "array[3] = 10 # Changes the value at index 3 to 10\n",
    "print(\"value of 3rd index in 1D array after change is\", array[3]) # Prints the changed value\n",
    "\n",
    "\n",
    "#if we want to see range then we can use colons\n",
    "print(\"value of 2nd to 4th index in 1D array is\", array[1:4]) # Prints the values from index 1 to 3 (4 is excluded) 0th is 1, 1st is 2, 2nd is 3, 3rd is 4 , 4th is 5\n",
    "\n",
    "#we can also use negative indexing\n",
    "print(\"value of 2nd to 4th index in 1D array using negative indexing is\", array[-4:-1]) # Prints the values from index -4 to -2 (-1 is excluded) -1st is 5, -2nd is 4, -3rd is 3, -4th is 2, -5th is 1\n",
    "\n",
    "#multi-dimensional indexing\n",
    "print(\"only print 1st col of 2D array, index start from 0 and we are printing 1st col\", twoDarray[:, 1]) # Prints the first column of the 2D array\n",
    "\n",
    "#now accesing 0th col of 2D array \n",
    "print(\"only print 0th col of 2D array, index start from 0 and we are printing 0th col\", twoDarray[:, 0]) # Prints the first column of the 2D array\n",
    "\n",
    "#suppose we want to print 3 4 and 4 5 from 1st and 2nd row so \n",
    "print('printing 7 8 12 13 of 2D array', twoDarray[1:,1:3])\n",
    "print('printing 9 10 14 15 of 2D array', twoDarray[1:,3:])"
   ]
  },
  {
   "cell_type": "code",
   "execution_count": null,
   "id": "50367995",
   "metadata": {},
   "outputs": [
    {
     "name": "stdout",
     "output_type": "stream",
     "text": [
      "reshaped array [[ 1  2  3]\n",
      " [ 4  5  6]\n",
      " [ 7  8  9]\n",
      " [10 11 12]\n",
      " [13 14 15]]\n"
     ]
    }
   ],
   "source": [
    "#Reshape of 2D array\n",
    "reshaped_array = twoDarray.reshape(5, 3) # Reshapes the 2D array to a new shape (5 rows, 3 columns)\n",
    "print(\"reshaped array\", reshaped_array) # Prints the reshaped array\n",
    "\n",
    "# important while reshaping is while reshaping the number of elements should be same\n",
    "# for example if we have 15 elements in 2D array then we can reshape it to 3x5 or 5x3 but not to 4x4 or 2x7"
   ]
  },
  {
   "cell_type": "code",
   "execution_count": null,
   "id": "a399c432",
   "metadata": {},
   "outputs": [
    {
     "name": "stdout",
     "output_type": "stream",
     "text": [
      "arranged array with step of 2 [ 1  3  5  7  9 11 13 15 17 19]\n",
      "reshaped arranged array [[ 1  3]\n",
      " [ 5  7]\n",
      " [ 9 11]\n",
      " [13 15]\n",
      " [17 19]]\n",
      "3D array [[[ 1  2  3]\n",
      "  [ 4  5  6]\n",
      "  [ 7  8  9]]\n",
      "\n",
      " [[10 11 12]\n",
      "  [13 14 15]\n",
      "  [16 17 18]]\n",
      "\n",
      " [[19 20 21]\n",
      "  [22 23 24]\n",
      "  [25 26 27]]]\n"
     ]
    }
   ],
   "source": [
    "#arrange function \n",
    "arrangedArray = np.arange(1, 21, 2) # Creates an array with values from 1 to 20 with a step of 2, (initial value, final value, step)\n",
    "print(\"arranged array with step of 2\", arrangedArray) # Prints the arranged array\n",
    "\n",
    "#reshaping arranged array\n",
    "reshapingArrangedArray = np.arange(1,20,2).reshape(5, 2) # Reshapes the arranged array to a new shape (5 rows, 2 columns)\n",
    "print(\"reshaped arranged array\", reshapingArrangedArray) # Prints the reshaped arranged array\n",
    "\n",
    "#creating a 3D array by using arrange and reshape\n",
    "threeDarray = np.arange(1, 28).reshape(3, 3, 3) # Creates a 3D array with values from 1 to 27 and reshapes it to (3, 3, 3)\n",
    "print(\"3D array\", threeDarray) # Prints the 3D array\n",
    "# 3D array consists of number of 2D arrays, in this case 3 2D arrays"
   ]
  },
  {
   "cell_type": "code",
   "execution_count": null,
   "id": "72ca85db",
   "metadata": {},
   "outputs": [
    {
     "name": "stdout",
     "output_type": "stream",
     "text": [
      "2D array multiplied by 2 [[ 2  4  6  8 10]\n",
      " [12 14 16 18 20]\n",
      " [22 24 26 28 30]]\n",
      "3x3 array of ones [[1. 1. 1.]\n",
      " [1. 1. 1.]\n",
      " [1. 1. 1.]]\n",
      "3x3 identity matrix [[1. 0. 0.]\n",
      " [0. 1. 0.]\n",
      " [0. 0. 1.]]\n"
     ]
    }
   ],
   "source": [
    "#you can also do multiple operations on numpy arrays like addition, subtraction, multiplication, division etc.\n",
    "#for example\n",
    "print(\"2D array multiplied by 2\", twoDarray * 2) # Prints the 2D array multiplied by 2\n",
    "\n",
    "#another function is .ones() which creates an array of ones\n",
    "ones_array = np.ones((3, 3)) # Creates a 3x3 array of ones\n",
    "print(\"3x3 array of ones\", ones_array) # Prints the 3x3 array of ones // similarly we can use .zeros() to create an array of zeros\n",
    "\n",
    "#another function is .eye() which creates an identity matrix\n",
    "identity_matrix = np.eye(3) # Creates a 3x3 identity matrix\n",
    "print(\"3x3 identity matrix\", identity_matrix) # Prints the 3x3 identity matrix\n",
    "\n",
    "# There are many more functions in numpy like .sum(), .mean(), .max(), .min() etc.\n",
    "# As per your requirement you can use these functions to perform various operations on numpy arrays\n",
    "\n"
   ]
  },
  {
   "cell_type": "code",
   "execution_count": 41,
   "id": "da75e7b1",
   "metadata": {},
   "outputs": [
    {
     "name": "stdout",
     "output_type": "stream",
     "text": [
      "Numpy array with NaN value [ 1.  2. nan  4.  5.]\n"
     ]
    }
   ],
   "source": [
    "#Let us learn about NaN np.nan and when we use it, how we use it and what is the use of it\n",
    "# NaN stands for Not a Number, it is used to represent missing or undefined values in numpy arrays\n",
    "nan_array = np.array([1, 2, np.nan, 4, 5]) # Creates a numpy array with NaN value\n",
    "print(\"Numpy array with NaN value\", nan_array) # Prints the numpy array with NaN value\n",
    "\n",
    "# suppose we are getting data from exel or csv file and some values are missing then we can use NaN to represent those missing values\n",
    "# we can check if the value is NaN or not using np.isnan() function\n",
    "#suppose excel file has data of height of students but  height of 4th student and 7th student is missing then we can represent it as NaN\n",
    "# .isnan, when u get data or an array and you want to check if number is missing or it is a string instead of number then you can use this function\n"
   ]
  },
  {
   "cell_type": "markdown",
   "id": "bc70285a",
   "metadata": {},
   "source": [
    "# This is how you  can use isnan while dealing with real problem, you can check EXCELL sheet present \n",
    "# We read the Excel data (skipping the header) into a NumPy array with mixed types, replaced missing numeric values (None) with np.nan for proper handling, extracted numeric columns using array slicing, converted them to floats, and then calculated the mean while ignoring the missing values using np.nanmean(). This approach efficiently handles large datasets and missing data for numerical analysis."
   ]
  },
  {
   "cell_type": "code",
   "execution_count": 50,
   "id": "8a2cd826",
   "metadata": {},
   "outputs": [
    {
     "name": "stdout",
     "output_type": "stream",
     "text": [
      "Worksheet title: Sheet1\n",
      "Number of data rows read: 4\n",
      "Array shape: (4, 3)\n",
      "NaN mask for Marks: [False  True False False]\n",
      "NaN mask for Age: [False False False  True]\n",
      "Mean Marks (ignoring NaN): 80.0\n",
      "Mean Age (ignoring NaN): 15.0\n"
     ]
    }
   ],
   "source": [
    "from openpyxl import load_workbook\n",
    "\n",
    "# Step 1: Load the Excel workbook and select the active worksheet\n",
    "wb = load_workbook('Marks.xlsx')\n",
    "ws = wb.active  # or ws = wb['Sheet1']\n",
    "\n",
    "print(\"Worksheet title:\", ws.title)\n",
    "\n",
    "# Step 2: Read all data rows (skip header at row 1)\n",
    "data = []\n",
    "for row in ws.iter_rows(min_row=2, values_only=True):\n",
    "    data.append(list(row))\n",
    "\n",
    "print(f\"Number of data rows read: {len(data)}\")\n",
    "# Avoid printing all raw data if it's large\n",
    "\n",
    "# Step 3: Convert list of rows to a NumPy array with dtype=object \n",
    "# dtype=object is used to handle mixed types (strings, floats, None)\n",
    "arr = np.array(data, dtype=object)\n",
    "print(\"Array shape:\", arr.shape)\n",
    "\n",
    "if arr.size == 0:\n",
    "    print(\"No data to process\")\n",
    "else:\n",
    "    # Step 4: Extract the 'Marks' column (index 1) and 'Age' column (index 2) using NumPy slicing\n",
    "    # arr[:, 1] means: all rows, column at index 1 (Marks)\n",
    "    # arr[:, 2] means: all rows, column at index 2 (Age)\n",
    "    marks_col = arr[:, 1]\n",
    "    age_col = arr[:, 2]\n",
    "\n",
    "    # Step 5: Replace None values with np.nan (missing numeric data)\n",
    "    # np.where(condition, value_if_true, value_if_false) is vectorized and efficient\n",
    "    marks_col = np.where(marks_col == None, np.nan, marks_col)\n",
    "    age_col = np.where(age_col == None, np.nan, age_col)\n",
    "\n",
    "    # Step 6: Put the cleaned columns back into the original array\n",
    "    arr[:, 1] = marks_col\n",
    "    arr[:, 2] = age_col\n",
    "\n",
    "    # Step 7: Convert these columns to float for numerical computations\n",
    "    marks = arr[:, 1].astype(float)\n",
    "    age = arr[:, 2].astype(float)\n",
    "\n",
    "    # Step 8: Check for NaNs in the data (True where data is missing)\n",
    "    print(\"NaN mask for Marks:\", np.isnan(marks))\n",
    "    print(\"NaN mask for Age:\", np.isnan(age))\n",
    "\n",
    "    # Step 9: Calculate mean ignoring NaN values using np.nanmean()\n",
    "    mean_marks = np.nanmean(marks)\n",
    "    mean_age = np.nanmean(age)\n",
    "\n",
    "    print(\"Mean Marks (ignoring NaN):\", mean_marks)\n",
    "    print(\"Mean Age (ignoring NaN):\", mean_age)\n"
   ]
  },
  {
   "cell_type": "markdown",
   "id": "71e8ac84",
   "metadata": {},
   "source": [
    "| Function       | NaN-safe Version   | Description                            |\n",
    "|----------------|-------------------|------------------------------------|\n",
    "| np.sum         | np.nansum         | Compute sum of elements             |\n",
    "| np.prod        | np.nanprod        | Compute product of elements         |\n",
    "| np.mean        | np.nanmean        | Compute mean of elements            |\n",
    "| np.std         | np.nanstd         | Compute standard deviation          |\n",
    "| np.var         | np.nanvar         | Compute variance                    |\n",
    "| np.min         | np.nanmin         | Find minimum value                  |\n",
    "| np.max         | np.nanmax         | Find maximum value                  |\n",
    "| np.argmin      | np.nanargmin      | Find index of minimum value         |\n",
    "| np.argmax      | np.nanargmax      | Find index of maximum value         |\n",
    "| np.median      | np.nanmedian      | Compute median of elements          |\n",
    "| np.percentile  | np.nanpercentile  | Compute rank-based statistics       |\n",
    "| np.any         | N/A               | Evaluate whether any elements are true |\n",
    "| np.all         | N/A               | Evaluate whether all elements are true |\n"
   ]
  }
 ],
 "metadata": {
  "kernelspec": {
   "display_name": "venv",
   "language": "python",
   "name": "python3"
  },
  "language_info": {
   "codemirror_mode": {
    "name": "ipython",
    "version": 3
   },
   "file_extension": ".py",
   "mimetype": "text/x-python",
   "name": "python",
   "nbconvert_exporter": "python",
   "pygments_lexer": "ipython3",
   "version": "3.13.1"
  }
 },
 "nbformat": 4,
 "nbformat_minor": 5
}
