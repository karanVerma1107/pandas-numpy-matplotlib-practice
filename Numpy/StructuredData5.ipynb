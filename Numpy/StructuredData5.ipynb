{
 "cells": [
  {
   "cell_type": "markdown",
   "id": "21f771d6",
   "metadata": {},
   "source": [
    "What is a Structured Array?\n",
    "Normally, a NumPy array stores values all of the same type, like all integers or all floats.\n",
    "\n",
    "But sometimes, you want to store different types of data together in one array, like a person's name (string), age (integer), and weight (float). These are heterogeneous data — different types in one container.\n",
    "\n",
    "A structured array lets you do this in NumPy."
   ]
  },
  {
   "cell_type": "code",
   "execution_count": 5,
   "id": "86c4baa2",
   "metadata": {},
   "outputs": [
    {
     "name": "stdout",
     "output_type": "stream",
     "text": [
      "[('name', '<U10'), ('age', '<i4'), ('weight', '<f8')]\n",
      "data is [('', 0, 0.) ('', 0, 0.) ('', 0, 0.) ('', 0, 0.)]\n",
      "[('Alice', 25, 55. ) ('Bob', 45, 85.5) ('Cathy', 37, 68. )\n",
      " ('Doug', 19, 61.5)]\n"
     ]
    }
   ],
   "source": [
    "import numpy as np\n",
    "\n",
    "# Define a structured data type with 3 fields: name, age, weight\n",
    "dltype = {\n",
    "    'names': ('name', 'age', 'weight'),       # field names\n",
    "    'formats': ('U10', 'i4', 'f8')            # data types: U10 = Unicode string of max length 10, i4 = 4-byte int, f8 = 8-byte float\n",
    "}\n",
    "\n",
    "# Create an empty structured array of length 4 with the defined dtype\n",
    "data = np.zeros(4, dtype=dltype)\n",
    "\n",
    "print(data.dtype)\n",
    "print(\"data is\", data)\n",
    "# Output: [('name', '<U10'), ('age', '<i4'), ('weight', '<f8')]\n",
    "\n",
    "\n",
    "\n",
    "data['name'] = ['Alice', 'Bob', 'Cathy', 'Doug']\n",
    "data['age'] = [25, 45, 37, 19]\n",
    "data['weight'] = [55.0, 85.5, 68.0, 61.5]\n",
    "\n",
    "print(data)\n",
    "# Output:\n",
    "# [('Alice', 25, 55. ) ('Bob', 45, 85.5) ('Cathy', 37, 68. )\n",
    "#  ('Doug', 19, 61.5)]\n"
   ]
  },
  {
   "cell_type": "code",
   "execution_count": 6,
   "id": "ffd72684",
   "metadata": {},
   "outputs": [
    {
     "name": "stdout",
     "output_type": "stream",
     "text": [
      "Using dictionary:\n",
      " [('', 0, 0.) ('', 0, 0.)]\n",
      "\n",
      "Using NumPy types:\n",
      " [('', 0, 0.) ('', 0, 0.)]\n",
      "\n",
      "Using list of tuples:\n",
      " [(b'', 0, 0.) (b'', 0, 0.)]\n",
      "\n",
      "Using comma-separated string:\n",
      " [(b'', 0, 0.) (b'', 0, 0.)]\n",
      "Accessing unnamed field f0: [b'' b'']\n"
     ]
    }
   ],
   "source": [
    "import numpy as np\n",
    "\n",
    "# Method 1: Using a dictionary with 'names' and 'formats'\n",
    "# 'U10' = Unicode string of max length 10\n",
    "# 'i4'  = 4-byte (32-bit) integer\n",
    "# 'f8'  = 8-byte (64-bit) float\n",
    "dtype_dict = {\n",
    "    'names': ('name', 'age', 'weight'),\n",
    "    'formats': ('U10', 'i4', 'f8')\n",
    "}\n",
    "\n",
    "# Example usage\n",
    "data1 = np.zeros(2, dtype=dtype_dict)\n",
    "print(\"Using dictionary:\\n\", data1)\n",
    "\n",
    "\n",
    "# Method 2: Using NumPy types with explicit size and types\n",
    "# np.str_ with size 10, int as default integer, and np.float32 for 32-bit float\n",
    "dtype_np_types = {\n",
    "    'names': ('name', 'age', 'weight'),\n",
    "    'formats': ((np.str_, 10), int, np.float32)\n",
    "}\n",
    "\n",
    "data2 = np.zeros(2, dtype=dtype_np_types)\n",
    "print(\"\\nUsing NumPy types:\\n\", data2)\n",
    "\n",
    "\n",
    "# Method 3: Using a list of tuples (field_name, field_type)\n",
    "# 'S10' = Byte string of length 10\n",
    "dtype_list_tuples = [\n",
    "    ('name', 'S10'),\n",
    "    ('age', 'i4'),\n",
    "    ('weight', 'f8')\n",
    "]\n",
    "\n",
    "data3 = np.zeros(2, dtype=dtype_list_tuples)\n",
    "print(\"\\nUsing list of tuples:\\n\", data3)\n",
    "\n",
    "\n",
    "# Method 4: Using a comma-separated string (no field names)\n",
    "# The fields will be accessed by default names: f0, f1, f2\n",
    "dtype_string = 'S10,i4,f8'\n",
    "\n",
    "data4 = np.zeros(2, dtype=dtype_string)\n",
    "print(\"\\nUsing comma-separated string:\\n\", data4)\n",
    "print(\"Accessing unnamed field f0:\", data4['f0'])  # Access by default name\n"
   ]
  },
  {
   "cell_type": "markdown",
   "id": "7b2976e2",
   "metadata": {},
   "source": [
    "+------------+--------------------------+------------------------------------------+\n",
    "| Character  | Description              | Example                                  |\n",
    "+------------+--------------------------+------------------------------------------+\n",
    "| b          | Byte                     | np.dtype('b')                             |\n",
    "| i          | Signed integer           | np.dtype('i4') == np.int32                |\n",
    "| u          | Unsigned integer         | np.dtype('u1') == np.uint8                |\n",
    "| f          | Floating point           | np.dtype('f8') == np.float64              |\n",
    "| c          | Complex floating point   | np.dtype('c16') == np.complex128          |\n",
    "| S / a      | String (byte string)     | np.dtype('S5')                            |\n",
    "| U          | Unicode string           | np.dtype('U') == np.str_                  |\n",
    "| V          | Raw data (void)          | np.dtype('V') == np.void                  |\n",
    "+------------+--------------------------+------------------------------------------+\n"
   ]
  }
 ],
 "metadata": {
  "kernelspec": {
   "display_name": "venv",
   "language": "python",
   "name": "python3"
  },
  "language_info": {
   "codemirror_mode": {
    "name": "ipython",
    "version": 3
   },
   "file_extension": ".py",
   "mimetype": "text/x-python",
   "name": "python",
   "nbconvert_exporter": "python",
   "pygments_lexer": "ipython3",
   "version": "3.13.1"
  }
 },
 "nbformat": 4,
 "nbformat_minor": 5
}
