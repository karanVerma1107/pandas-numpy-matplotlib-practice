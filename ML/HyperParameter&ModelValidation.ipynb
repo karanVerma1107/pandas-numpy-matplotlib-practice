{
 "cells": [
  {
   "cell_type": "markdown",
   "id": "5287c5bc",
   "metadata": {},
   "source": [
    "\n",
    "When using machine learning, you usually follow these steps:\n",
    "\n",
    "1. Pick a type of model (like decision tree, SVM, etc.)\n",
    "2. Choose settings for the model (called **hyperparameters**)\n",
    "3. Train the model using some data\n",
    "4. Use the model to predict new data\n",
    "\n",
    "But to make sure your model and its settings are **actually good**, you need to **validate** it—basically, test how well it works.\n",
    "\n",
    "This might sound easy (just check how well it predicts on the training data), but that can be **misleading**. So, better ways are used, like:\n",
    "\n",
    "* **Holdout sets** (keep some data aside just for testing)\n",
    "* **Cross-validation** (test the model on different parts of the data)\n",
    "\n",
    "These techniques help you avoid mistakes and make sure your model works well on **new, unseen data**.\n"
   ]
  },
  {
   "cell_type": "markdown",
   "id": "6facbcd9",
   "metadata": {},
   "source": [
    "This example demonstrates the wrong way to validate a machine learning model. It trains a model on the entire dataset and then tests it on the same dataset. As a result, the model shows a 100% accuracy, but this is misleading because it's simply memorizing the training data, not generalizing to new, unseen data.\n",
    "The main message (moto) is:\n",
    "\n",
    "Never validate your model on the same data it was trained on. Always test on unseen data to get a realistic estimate of performance."
   ]
  },
  {
   "cell_type": "code",
   "execution_count": 2,
   "id": "555d5a58",
   "metadata": {},
   "outputs": [],
   "source": [
    "from sklearn.datasets import load_iris\n",
    "iris = load_iris()\n",
    "X = iris.data\n",
    "y = iris.target\n"
   ]
  },
  {
   "cell_type": "markdown",
   "id": "81c8a2e7",
   "metadata": {},
   "source": [
    "load_iris() loads the famous Iris flower dataset.\n",
    "\n",
    "X = iris.data assigns the features (sepal/petal length and width) to X.\n",
    "\n",
    "y = iris.target assigns the labels (flower species: Setosa, Versicolor, Virginica) to y."
   ]
  },
  {
   "cell_type": "code",
   "execution_count": 3,
   "id": "00d9e8f6",
   "metadata": {},
   "outputs": [
    {
     "data": {
      "text/html": [
       "<style>#sk-container-id-1 {\n",
       "  /* Definition of color scheme common for light and dark mode */\n",
       "  --sklearn-color-text: #000;\n",
       "  --sklearn-color-text-muted: #666;\n",
       "  --sklearn-color-line: gray;\n",
       "  /* Definition of color scheme for unfitted estimators */\n",
       "  --sklearn-color-unfitted-level-0: #fff5e6;\n",
       "  --sklearn-color-unfitted-level-1: #f6e4d2;\n",
       "  --sklearn-color-unfitted-level-2: #ffe0b3;\n",
       "  --sklearn-color-unfitted-level-3: chocolate;\n",
       "  /* Definition of color scheme for fitted estimators */\n",
       "  --sklearn-color-fitted-level-0: #f0f8ff;\n",
       "  --sklearn-color-fitted-level-1: #d4ebff;\n",
       "  --sklearn-color-fitted-level-2: #b3dbfd;\n",
       "  --sklearn-color-fitted-level-3: cornflowerblue;\n",
       "\n",
       "  /* Specific color for light theme */\n",
       "  --sklearn-color-text-on-default-background: var(--sg-text-color, var(--theme-code-foreground, var(--jp-content-font-color1, black)));\n",
       "  --sklearn-color-background: var(--sg-background-color, var(--theme-background, var(--jp-layout-color0, white)));\n",
       "  --sklearn-color-border-box: var(--sg-text-color, var(--theme-code-foreground, var(--jp-content-font-color1, black)));\n",
       "  --sklearn-color-icon: #696969;\n",
       "\n",
       "  @media (prefers-color-scheme: dark) {\n",
       "    /* Redefinition of color scheme for dark theme */\n",
       "    --sklearn-color-text-on-default-background: var(--sg-text-color, var(--theme-code-foreground, var(--jp-content-font-color1, white)));\n",
       "    --sklearn-color-background: var(--sg-background-color, var(--theme-background, var(--jp-layout-color0, #111)));\n",
       "    --sklearn-color-border-box: var(--sg-text-color, var(--theme-code-foreground, var(--jp-content-font-color1, white)));\n",
       "    --sklearn-color-icon: #878787;\n",
       "  }\n",
       "}\n",
       "\n",
       "#sk-container-id-1 {\n",
       "  color: var(--sklearn-color-text);\n",
       "}\n",
       "\n",
       "#sk-container-id-1 pre {\n",
       "  padding: 0;\n",
       "}\n",
       "\n",
       "#sk-container-id-1 input.sk-hidden--visually {\n",
       "  border: 0;\n",
       "  clip: rect(1px 1px 1px 1px);\n",
       "  clip: rect(1px, 1px, 1px, 1px);\n",
       "  height: 1px;\n",
       "  margin: -1px;\n",
       "  overflow: hidden;\n",
       "  padding: 0;\n",
       "  position: absolute;\n",
       "  width: 1px;\n",
       "}\n",
       "\n",
       "#sk-container-id-1 div.sk-dashed-wrapped {\n",
       "  border: 1px dashed var(--sklearn-color-line);\n",
       "  margin: 0 0.4em 0.5em 0.4em;\n",
       "  box-sizing: border-box;\n",
       "  padding-bottom: 0.4em;\n",
       "  background-color: var(--sklearn-color-background);\n",
       "}\n",
       "\n",
       "#sk-container-id-1 div.sk-container {\n",
       "  /* jupyter's `normalize.less` sets `[hidden] { display: none; }`\n",
       "     but bootstrap.min.css set `[hidden] { display: none !important; }`\n",
       "     so we also need the `!important` here to be able to override the\n",
       "     default hidden behavior on the sphinx rendered scikit-learn.org.\n",
       "     See: https://github.com/scikit-learn/scikit-learn/issues/21755 */\n",
       "  display: inline-block !important;\n",
       "  position: relative;\n",
       "}\n",
       "\n",
       "#sk-container-id-1 div.sk-text-repr-fallback {\n",
       "  display: none;\n",
       "}\n",
       "\n",
       "div.sk-parallel-item,\n",
       "div.sk-serial,\n",
       "div.sk-item {\n",
       "  /* draw centered vertical line to link estimators */\n",
       "  background-image: linear-gradient(var(--sklearn-color-text-on-default-background), var(--sklearn-color-text-on-default-background));\n",
       "  background-size: 2px 100%;\n",
       "  background-repeat: no-repeat;\n",
       "  background-position: center center;\n",
       "}\n",
       "\n",
       "/* Parallel-specific style estimator block */\n",
       "\n",
       "#sk-container-id-1 div.sk-parallel-item::after {\n",
       "  content: \"\";\n",
       "  width: 100%;\n",
       "  border-bottom: 2px solid var(--sklearn-color-text-on-default-background);\n",
       "  flex-grow: 1;\n",
       "}\n",
       "\n",
       "#sk-container-id-1 div.sk-parallel {\n",
       "  display: flex;\n",
       "  align-items: stretch;\n",
       "  justify-content: center;\n",
       "  background-color: var(--sklearn-color-background);\n",
       "  position: relative;\n",
       "}\n",
       "\n",
       "#sk-container-id-1 div.sk-parallel-item {\n",
       "  display: flex;\n",
       "  flex-direction: column;\n",
       "}\n",
       "\n",
       "#sk-container-id-1 div.sk-parallel-item:first-child::after {\n",
       "  align-self: flex-end;\n",
       "  width: 50%;\n",
       "}\n",
       "\n",
       "#sk-container-id-1 div.sk-parallel-item:last-child::after {\n",
       "  align-self: flex-start;\n",
       "  width: 50%;\n",
       "}\n",
       "\n",
       "#sk-container-id-1 div.sk-parallel-item:only-child::after {\n",
       "  width: 0;\n",
       "}\n",
       "\n",
       "/* Serial-specific style estimator block */\n",
       "\n",
       "#sk-container-id-1 div.sk-serial {\n",
       "  display: flex;\n",
       "  flex-direction: column;\n",
       "  align-items: center;\n",
       "  background-color: var(--sklearn-color-background);\n",
       "  padding-right: 1em;\n",
       "  padding-left: 1em;\n",
       "}\n",
       "\n",
       "\n",
       "/* Toggleable style: style used for estimator/Pipeline/ColumnTransformer box that is\n",
       "clickable and can be expanded/collapsed.\n",
       "- Pipeline and ColumnTransformer use this feature and define the default style\n",
       "- Estimators will overwrite some part of the style using the `sk-estimator` class\n",
       "*/\n",
       "\n",
       "/* Pipeline and ColumnTransformer style (default) */\n",
       "\n",
       "#sk-container-id-1 div.sk-toggleable {\n",
       "  /* Default theme specific background. It is overwritten whether we have a\n",
       "  specific estimator or a Pipeline/ColumnTransformer */\n",
       "  background-color: var(--sklearn-color-background);\n",
       "}\n",
       "\n",
       "/* Toggleable label */\n",
       "#sk-container-id-1 label.sk-toggleable__label {\n",
       "  cursor: pointer;\n",
       "  display: flex;\n",
       "  width: 100%;\n",
       "  margin-bottom: 0;\n",
       "  padding: 0.5em;\n",
       "  box-sizing: border-box;\n",
       "  text-align: center;\n",
       "  align-items: start;\n",
       "  justify-content: space-between;\n",
       "  gap: 0.5em;\n",
       "}\n",
       "\n",
       "#sk-container-id-1 label.sk-toggleable__label .caption {\n",
       "  font-size: 0.6rem;\n",
       "  font-weight: lighter;\n",
       "  color: var(--sklearn-color-text-muted);\n",
       "}\n",
       "\n",
       "#sk-container-id-1 label.sk-toggleable__label-arrow:before {\n",
       "  /* Arrow on the left of the label */\n",
       "  content: \"▸\";\n",
       "  float: left;\n",
       "  margin-right: 0.25em;\n",
       "  color: var(--sklearn-color-icon);\n",
       "}\n",
       "\n",
       "#sk-container-id-1 label.sk-toggleable__label-arrow:hover:before {\n",
       "  color: var(--sklearn-color-text);\n",
       "}\n",
       "\n",
       "/* Toggleable content - dropdown */\n",
       "\n",
       "#sk-container-id-1 div.sk-toggleable__content {\n",
       "  max-height: 0;\n",
       "  max-width: 0;\n",
       "  overflow: hidden;\n",
       "  text-align: left;\n",
       "  /* unfitted */\n",
       "  background-color: var(--sklearn-color-unfitted-level-0);\n",
       "}\n",
       "\n",
       "#sk-container-id-1 div.sk-toggleable__content.fitted {\n",
       "  /* fitted */\n",
       "  background-color: var(--sklearn-color-fitted-level-0);\n",
       "}\n",
       "\n",
       "#sk-container-id-1 div.sk-toggleable__content pre {\n",
       "  margin: 0.2em;\n",
       "  border-radius: 0.25em;\n",
       "  color: var(--sklearn-color-text);\n",
       "  /* unfitted */\n",
       "  background-color: var(--sklearn-color-unfitted-level-0);\n",
       "}\n",
       "\n",
       "#sk-container-id-1 div.sk-toggleable__content.fitted pre {\n",
       "  /* unfitted */\n",
       "  background-color: var(--sklearn-color-fitted-level-0);\n",
       "}\n",
       "\n",
       "#sk-container-id-1 input.sk-toggleable__control:checked~div.sk-toggleable__content {\n",
       "  /* Expand drop-down */\n",
       "  max-height: 200px;\n",
       "  max-width: 100%;\n",
       "  overflow: auto;\n",
       "}\n",
       "\n",
       "#sk-container-id-1 input.sk-toggleable__control:checked~label.sk-toggleable__label-arrow:before {\n",
       "  content: \"▾\";\n",
       "}\n",
       "\n",
       "/* Pipeline/ColumnTransformer-specific style */\n",
       "\n",
       "#sk-container-id-1 div.sk-label input.sk-toggleable__control:checked~label.sk-toggleable__label {\n",
       "  color: var(--sklearn-color-text);\n",
       "  background-color: var(--sklearn-color-unfitted-level-2);\n",
       "}\n",
       "\n",
       "#sk-container-id-1 div.sk-label.fitted input.sk-toggleable__control:checked~label.sk-toggleable__label {\n",
       "  background-color: var(--sklearn-color-fitted-level-2);\n",
       "}\n",
       "\n",
       "/* Estimator-specific style */\n",
       "\n",
       "/* Colorize estimator box */\n",
       "#sk-container-id-1 div.sk-estimator input.sk-toggleable__control:checked~label.sk-toggleable__label {\n",
       "  /* unfitted */\n",
       "  background-color: var(--sklearn-color-unfitted-level-2);\n",
       "}\n",
       "\n",
       "#sk-container-id-1 div.sk-estimator.fitted input.sk-toggleable__control:checked~label.sk-toggleable__label {\n",
       "  /* fitted */\n",
       "  background-color: var(--sklearn-color-fitted-level-2);\n",
       "}\n",
       "\n",
       "#sk-container-id-1 div.sk-label label.sk-toggleable__label,\n",
       "#sk-container-id-1 div.sk-label label {\n",
       "  /* The background is the default theme color */\n",
       "  color: var(--sklearn-color-text-on-default-background);\n",
       "}\n",
       "\n",
       "/* On hover, darken the color of the background */\n",
       "#sk-container-id-1 div.sk-label:hover label.sk-toggleable__label {\n",
       "  color: var(--sklearn-color-text);\n",
       "  background-color: var(--sklearn-color-unfitted-level-2);\n",
       "}\n",
       "\n",
       "/* Label box, darken color on hover, fitted */\n",
       "#sk-container-id-1 div.sk-label.fitted:hover label.sk-toggleable__label.fitted {\n",
       "  color: var(--sklearn-color-text);\n",
       "  background-color: var(--sklearn-color-fitted-level-2);\n",
       "}\n",
       "\n",
       "/* Estimator label */\n",
       "\n",
       "#sk-container-id-1 div.sk-label label {\n",
       "  font-family: monospace;\n",
       "  font-weight: bold;\n",
       "  display: inline-block;\n",
       "  line-height: 1.2em;\n",
       "}\n",
       "\n",
       "#sk-container-id-1 div.sk-label-container {\n",
       "  text-align: center;\n",
       "}\n",
       "\n",
       "/* Estimator-specific */\n",
       "#sk-container-id-1 div.sk-estimator {\n",
       "  font-family: monospace;\n",
       "  border: 1px dotted var(--sklearn-color-border-box);\n",
       "  border-radius: 0.25em;\n",
       "  box-sizing: border-box;\n",
       "  margin-bottom: 0.5em;\n",
       "  /* unfitted */\n",
       "  background-color: var(--sklearn-color-unfitted-level-0);\n",
       "}\n",
       "\n",
       "#sk-container-id-1 div.sk-estimator.fitted {\n",
       "  /* fitted */\n",
       "  background-color: var(--sklearn-color-fitted-level-0);\n",
       "}\n",
       "\n",
       "/* on hover */\n",
       "#sk-container-id-1 div.sk-estimator:hover {\n",
       "  /* unfitted */\n",
       "  background-color: var(--sklearn-color-unfitted-level-2);\n",
       "}\n",
       "\n",
       "#sk-container-id-1 div.sk-estimator.fitted:hover {\n",
       "  /* fitted */\n",
       "  background-color: var(--sklearn-color-fitted-level-2);\n",
       "}\n",
       "\n",
       "/* Specification for estimator info (e.g. \"i\" and \"?\") */\n",
       "\n",
       "/* Common style for \"i\" and \"?\" */\n",
       "\n",
       ".sk-estimator-doc-link,\n",
       "a:link.sk-estimator-doc-link,\n",
       "a:visited.sk-estimator-doc-link {\n",
       "  float: right;\n",
       "  font-size: smaller;\n",
       "  line-height: 1em;\n",
       "  font-family: monospace;\n",
       "  background-color: var(--sklearn-color-background);\n",
       "  border-radius: 1em;\n",
       "  height: 1em;\n",
       "  width: 1em;\n",
       "  text-decoration: none !important;\n",
       "  margin-left: 0.5em;\n",
       "  text-align: center;\n",
       "  /* unfitted */\n",
       "  border: var(--sklearn-color-unfitted-level-1) 1pt solid;\n",
       "  color: var(--sklearn-color-unfitted-level-1);\n",
       "}\n",
       "\n",
       ".sk-estimator-doc-link.fitted,\n",
       "a:link.sk-estimator-doc-link.fitted,\n",
       "a:visited.sk-estimator-doc-link.fitted {\n",
       "  /* fitted */\n",
       "  border: var(--sklearn-color-fitted-level-1) 1pt solid;\n",
       "  color: var(--sklearn-color-fitted-level-1);\n",
       "}\n",
       "\n",
       "/* On hover */\n",
       "div.sk-estimator:hover .sk-estimator-doc-link:hover,\n",
       ".sk-estimator-doc-link:hover,\n",
       "div.sk-label-container:hover .sk-estimator-doc-link:hover,\n",
       ".sk-estimator-doc-link:hover {\n",
       "  /* unfitted */\n",
       "  background-color: var(--sklearn-color-unfitted-level-3);\n",
       "  color: var(--sklearn-color-background);\n",
       "  text-decoration: none;\n",
       "}\n",
       "\n",
       "div.sk-estimator.fitted:hover .sk-estimator-doc-link.fitted:hover,\n",
       ".sk-estimator-doc-link.fitted:hover,\n",
       "div.sk-label-container:hover .sk-estimator-doc-link.fitted:hover,\n",
       ".sk-estimator-doc-link.fitted:hover {\n",
       "  /* fitted */\n",
       "  background-color: var(--sklearn-color-fitted-level-3);\n",
       "  color: var(--sklearn-color-background);\n",
       "  text-decoration: none;\n",
       "}\n",
       "\n",
       "/* Span, style for the box shown on hovering the info icon */\n",
       ".sk-estimator-doc-link span {\n",
       "  display: none;\n",
       "  z-index: 9999;\n",
       "  position: relative;\n",
       "  font-weight: normal;\n",
       "  right: .2ex;\n",
       "  padding: .5ex;\n",
       "  margin: .5ex;\n",
       "  width: min-content;\n",
       "  min-width: 20ex;\n",
       "  max-width: 50ex;\n",
       "  color: var(--sklearn-color-text);\n",
       "  box-shadow: 2pt 2pt 4pt #999;\n",
       "  /* unfitted */\n",
       "  background: var(--sklearn-color-unfitted-level-0);\n",
       "  border: .5pt solid var(--sklearn-color-unfitted-level-3);\n",
       "}\n",
       "\n",
       ".sk-estimator-doc-link.fitted span {\n",
       "  /* fitted */\n",
       "  background: var(--sklearn-color-fitted-level-0);\n",
       "  border: var(--sklearn-color-fitted-level-3);\n",
       "}\n",
       "\n",
       ".sk-estimator-doc-link:hover span {\n",
       "  display: block;\n",
       "}\n",
       "\n",
       "/* \"?\"-specific style due to the `<a>` HTML tag */\n",
       "\n",
       "#sk-container-id-1 a.estimator_doc_link {\n",
       "  float: right;\n",
       "  font-size: 1rem;\n",
       "  line-height: 1em;\n",
       "  font-family: monospace;\n",
       "  background-color: var(--sklearn-color-background);\n",
       "  border-radius: 1rem;\n",
       "  height: 1rem;\n",
       "  width: 1rem;\n",
       "  text-decoration: none;\n",
       "  /* unfitted */\n",
       "  color: var(--sklearn-color-unfitted-level-1);\n",
       "  border: var(--sklearn-color-unfitted-level-1) 1pt solid;\n",
       "}\n",
       "\n",
       "#sk-container-id-1 a.estimator_doc_link.fitted {\n",
       "  /* fitted */\n",
       "  border: var(--sklearn-color-fitted-level-1) 1pt solid;\n",
       "  color: var(--sklearn-color-fitted-level-1);\n",
       "}\n",
       "\n",
       "/* On hover */\n",
       "#sk-container-id-1 a.estimator_doc_link:hover {\n",
       "  /* unfitted */\n",
       "  background-color: var(--sklearn-color-unfitted-level-3);\n",
       "  color: var(--sklearn-color-background);\n",
       "  text-decoration: none;\n",
       "}\n",
       "\n",
       "#sk-container-id-1 a.estimator_doc_link.fitted:hover {\n",
       "  /* fitted */\n",
       "  background-color: var(--sklearn-color-fitted-level-3);\n",
       "}\n",
       "</style><div id=\"sk-container-id-1\" class=\"sk-top-container\"><div class=\"sk-text-repr-fallback\"><pre>KNeighborsClassifier(n_neighbors=1)</pre><b>In a Jupyter environment, please rerun this cell to show the HTML representation or trust the notebook. <br />On GitHub, the HTML representation is unable to render, please try loading this page with nbviewer.org.</b></div><div class=\"sk-container\" hidden><div class=\"sk-item\"><div class=\"sk-estimator fitted sk-toggleable\"><input class=\"sk-toggleable__control sk-hidden--visually\" id=\"sk-estimator-id-1\" type=\"checkbox\" checked><label for=\"sk-estimator-id-1\" class=\"sk-toggleable__label fitted sk-toggleable__label-arrow\"><div><div>KNeighborsClassifier</div></div><div><a class=\"sk-estimator-doc-link fitted\" rel=\"noreferrer\" target=\"_blank\" href=\"https://scikit-learn.org/1.6/modules/generated/sklearn.neighbors.KNeighborsClassifier.html\">?<span>Documentation for KNeighborsClassifier</span></a><span class=\"sk-estimator-doc-link fitted\">i<span>Fitted</span></span></div></label><div class=\"sk-toggleable__content fitted\"><pre>KNeighborsClassifier(n_neighbors=1)</pre></div> </div></div></div></div>"
      ],
      "text/plain": [
       "KNeighborsClassifier(n_neighbors=1)"
      ]
     },
     "execution_count": 3,
     "metadata": {},
     "output_type": "execute_result"
    }
   ],
   "source": [
    "from sklearn.neighbors import KNeighborsClassifier\n",
    "model = KNeighborsClassifier(n_neighbors=1)\n",
    "\n",
    "model.fit(X, y)\n"
   ]
  },
  {
   "cell_type": "markdown",
   "id": "fcc25479",
   "metadata": {},
   "source": [
    "We import the k-nearest neighbors classifier.\n",
    "\n",
    "n_neighbors=1 means: to classify a new data point, the model looks at just 1 nearest neighbor and assigns that label."
   ]
  },
  {
   "cell_type": "code",
   "execution_count": 4,
   "id": "828e3d93",
   "metadata": {},
   "outputs": [],
   "source": [
    "y_model = model.predict(X)\n"
   ]
  },
  {
   "cell_type": "code",
   "execution_count": 5,
   "id": "53c331d6",
   "metadata": {},
   "outputs": [
    {
     "data": {
      "text/plain": [
       "1.0"
      ]
     },
     "execution_count": 5,
     "metadata": {},
     "output_type": "execute_result"
    }
   ],
   "source": [
    "from sklearn.metrics import accuracy_score\n",
    "accuracy_score(y, y_model)\n"
   ]
  },
  {
   "cell_type": "markdown",
   "id": "634c27b5",
   "metadata": {},
   "source": [
    "We compare the actual labels y with predicted labels y_model.\n",
    "\n",
    "It gives a score of 1.0 (i.e., 100% accurate), but this is not a realistic evaluation.\n",
    "\n"
   ]
  },
  {
   "cell_type": "markdown",
   "id": "5cead93c",
   "metadata": {},
   "source": [
    " ### Why This Approach is Wrong:\n",
    "Same data used for training and testing: The model is tested on the data it already knows.\n",
    "\n",
    "k-NN with k=1 is prone to overfitting on training data.\n",
    "\n",
    "This leads to optimistic results which do not reflect real-world performance."
   ]
  },
  {
   "cell_type": "markdown",
   "id": "67a4047c",
   "metadata": {},
   "source": [
    "# Model Validation the Right Way (Holdout Sets)\n",
    "\n",
    "This section shows the correct way to validate a machine learning model using a holdout set.\n",
    "Instead of training and testing on the same data (which leads to overfitting), we split the data into two parts:\n",
    "\n",
    "One part for training\n",
    "\n",
    "The other for testing (validation)\n",
    "\n",
    "This gives a realistic measure of how well the model will perform on new, unseen data. In this example, the accuracy drops from a misleading 100% to a more realistic 90.6%."
   ]
  },
  {
   "cell_type": "code",
   "execution_count": 6,
   "id": "2e12270a",
   "metadata": {},
   "outputs": [],
   "source": [
    "from sklearn.model_selection import train_test_split\n",
    "\n",
    "X1, X2, y1, y2 = train_test_split(X, y, random_state=0, train_size=0.5)\n"
   ]
  },
  {
   "cell_type": "markdown",
   "id": "4e46d45b",
   "metadata": {},
   "source": [
    "X and y are split into two sets:\n",
    "\n",
    "X1, y1: training set (50% of data)\n",
    "\n",
    "X2, y2: test/validation set (50% of data)\n",
    "\n",
    "random_state=0 ensures the split is reproducible every time you run it.\n",
    "\n",
    "🧠 Why this is done: The model needs to be trained on one part (X1, y1) and tested on another (X2, y2) that it hasn't seen."
   ]
  },
  {
   "cell_type": "code",
   "execution_count": 7,
   "id": "4cbd1b46",
   "metadata": {},
   "outputs": [
    {
     "data": {
      "text/plain": [
       "0.9066666666666666"
      ]
     },
     "execution_count": 7,
     "metadata": {},
     "output_type": "execute_result"
    }
   ],
   "source": [
    "model.fit(X1, y1)\n",
    "\n",
    "y2_model = model.predict(X2)\n",
    "\n",
    "accuracy_score(y2, y2_model)\n",
    "\n"
   ]
  },
  {
   "cell_type": "markdown",
   "id": "a818eefd",
   "metadata": {},
   "source": [
    "### Why This Is the Right Way:\n",
    "Avoids overfitting: The model doesn't just memorize the data.\n",
    "\n",
    "Simulates real-world performance: The test set represents new, unseen data.\n",
    "\n",
    "More trustworthy: You now have a realistic estimate of how your model will perform in practice."
   ]
  },
  {
   "cell_type": "markdown",
   "id": "ab9081b4",
   "metadata": {},
   "source": [
    "### Optional Improvement: Use test_size Instead of train_size\n",
    "\n",
    "More common in real projects.\n",
    "\n",
    "It keeps 70% training / 30% testing, which is a good default."
   ]
  },
  {
   "cell_type": "code",
   "execution_count": 8,
   "id": "a8c7fa62",
   "metadata": {},
   "outputs": [],
   "source": [
    "X_train, X_test, y_train, y_test = train_test_split(X, y, test_size=0.3, random_state=0)\n"
   ]
  },
  {
   "cell_type": "markdown",
   "id": "81bc2312",
   "metadata": {},
   "source": [
    "# Model Validation via Cross-Validation\n",
    "\n",
    "Cross-validation is a better model validation technique than a simple holdout set. Instead of splitting data once, we split it multiple times to ensure every point gets a chance to be both in training and validation.\n",
    "\n",
    "This helps us:\n",
    "\n",
    "Use all the data for training and testing, improving performance.\n",
    "\n",
    "Get a better estimate of model accuracy by averaging results across folds.\n",
    "\n",
    "There are different cross-validation types:\n",
    "\n",
    "K-Fold (e.g. 2-fold, 5-fold)\n",
    "\n",
    "Leave-One-Out (extreme form of K-Fold where k = n, i.e., every point is validated once while others are used for training)"
   ]
  },
  {
   "cell_type": "markdown",
   "id": "6465d1e9",
   "metadata": {},
   "source": [
    "###  2-Fold Cross Validation (Manual)"
   ]
  },
  {
   "cell_type": "code",
   "execution_count": 9,
   "id": "d83fe1b4",
   "metadata": {},
   "outputs": [
    {
     "data": {
      "text/plain": [
       "(0.96, 0.9066666666666666)"
      ]
     },
     "execution_count": 9,
     "metadata": {},
     "output_type": "execute_result"
    }
   ],
   "source": [
    "# First Half of data for training, second half for testing\n",
    "y2_model = model.fit(X1, y1).predict(X2)\n",
    "\n",
    "# Now reverse: second half for training, first half for testing\n",
    "y1_model = model.fit(X2, y2).predict(X1)\n",
    "\n",
    "# Calculate accuracy for both splits\n",
    "accuracy_score(y1, y1_model), accuracy_score(y2, y2_model)\n"
   ]
  },
  {
   "cell_type": "markdown",
   "id": "ba04d7cc",
   "metadata": {},
   "source": [
    " Logic:\n",
    "\n",
    "Train once on first half, test on second.\n",
    "\n",
    "Train again on second half, test on first.\n",
    "\n",
    "Get two scores → Take the average for final accuracy.\n",
    "\n",
    "✅ Motive: Every sample is used once for testing, making it more fair than a single split."
   ]
  },
  {
   "cell_type": "markdown",
   "id": "fbbaffb9",
   "metadata": {},
   "source": [
    "### 5-Fold Cross Validation Using cross_val_score\n",
    "\n",
    "https://jakevdp.github.io/PythonDataScienceHandbook/figures/05.03-5-fold-CV.png\n",
    "\n",
    "In 5-Fold Cross Validation:\n",
    "\n",
    "The dataset is split into 5 equal parts (called \"folds\").\n",
    "\n",
    "The model is trained on 4 folds and tested on the remaining 1 fold.\n",
    "\n",
    "This process is repeated 5 times, each time using a different fold as the test set.\n",
    "\n",
    "The results are averaged to get the final performance score.\n",
    "\n",
    "### Why Use It?\n",
    "To avoid overfitting.\n",
    "\n",
    "To get a more accurate performance estimate than just a single train/test split.\n",
    "\n",
    "Especially useful when data is limited.\n",
    "\n"
   ]
  },
  {
   "cell_type": "code",
   "execution_count": 4,
   "id": "1a1e44b7",
   "metadata": {},
   "outputs": [
    {
     "name": "stdout",
     "output_type": "stream",
     "text": [
      "Cross-validation scores for each fold: [0.96666667 0.96666667 0.93333333 0.93333333 1.        ]\n",
      "Average cross-validation accuracy: 0.96\n"
     ]
    }
   ],
   "source": [
    "# STEP 1: Import necessary libraries\n",
    "from sklearn.datasets import load_iris                    # Load example dataset\n",
    "from sklearn.model_selection import cross_val_score       # For cross-validation\n",
    "from sklearn.neighbors import KNeighborsClassifier        # Example model\n",
    "\n",
    "# STEP 2: Load the dataset\n",
    "iris = load_iris()       # Load Iris flower dataset\n",
    "X = iris.data            # Feature matrix (4 features per sample)\n",
    "y = iris.target          # Target labels (0 = Setosa, 1 = Versicolor, 2 = Virginica)\n",
    "\n",
    "# STEP 3: Create a machine learning model\n",
    "model = KNeighborsClassifier(n_neighbors=1)  # Use KNN model with 1 nearest neighbor\n",
    "\n",
    "# STEP 4: Perform 5-fold cross-validation\n",
    "scores = cross_val_score(model, X, y, cv=5)  # cv=5 means 5-fold cross-validation\n",
    "\n",
    "# Each element in 'scores' is the accuracy score for one of the 5 validation folds\n",
    "print(\"Cross-validation scores for each fold:\", scores)\n",
    "\n",
    "# STEP 5: Calculate average accuracy across all 5 folds\n",
    "print(\"Average cross-validation accuracy:\", scores.mean())\n"
   ]
  },
  {
   "cell_type": "markdown",
   "id": "2b23a40f",
   "metadata": {},
   "source": [
    "## Real-World Use Case Example\n",
    "You're working on a flower classification app using a small dataset (like Iris).\n",
    "You don't want to waste data on just a train/test split.\n",
    "\n",
    "So instead of:\n",
    "\n",
    "Training on 70% and testing on 30% (holdout method),\n",
    "\n",
    "You perform 5-Fold CV, ensuring every sample is used for both training and testing.\n",
    "\n",
    "This helps you decide:\n",
    "\n",
    "\"Is KNN with 1 neighbor good enough, or should I try 3 or 5 neighbors?\""
   ]
  },
  {
   "cell_type": "markdown",
   "id": "2f426557",
   "metadata": {},
   "source": [
    "| Component | Meaning                                                             |\n",
    "| --------- | ------------------------------------------------------------------- |\n",
    "| `model`   | Your ML model (e.g. KNN, Decision Tree, SVM)                        |\n",
    "| `X`       | Feature matrix (input data)                                         |\n",
    "| `y`       | Labels (target classes)                                             |\n",
    "| `cv=5`    | Split the data into 5 folds; each fold is used once for testing     |\n",
    "| `returns` | An array of 5 accuracy scores (or other metric, depending on setup) |\n"
   ]
  },
  {
   "cell_type": "markdown",
   "id": "4fd19449",
   "metadata": {},
   "source": [
    "## Selecting the Best Model\n",
    "When your machine learning model isn’t performing well, it's important to know how to fix it. You have a few options:\n",
    "\n",
    "Try a more complex model\n",
    "\n",
    "Try a simpler model\n",
    "\n",
    "Collect more training data\n",
    "\n",
    "Add more features (details) to your data\n",
    "\n",
    "But it’s not always obvious what will help. Sometimes, making the model more complex or adding more data can actually make things worse. Knowing the right step to take is what makes someone good at machine learning."
   ]
  },
  {
   "cell_type": "markdown",
   "id": "1d97a5ac",
   "metadata": {},
   "source": [
    "# The Bias-variance trade-off\n",
    "\n",
    "### 🎯 **Goal:**\n",
    "\n",
    "We want to build a machine learning model that makes good predictions—not just on the training data, but also on new, unseen data. The challenge is to find the **right balance** between:\n",
    "\n",
    "* **Bias** (being too simple)\n",
    "* **Variance** (being too complex)\n",
    "\n",
    "---\n",
    "\n",
    "## 📊 **Figure 1: Two Regression Fits (Bias vs Variance)**\n",
    "\n",
    "\n",
    "\n",
    "![Bias-Variance Figure](https://jakevdp.github.io/PythonDataScienceHandbook/figures/05.03-bias-variance.png)\n",
    "\n",
    "Imagine you're drawing a line to fit some scattered dots (data points):\n",
    "\n",
    "* **Left image (Underfitting / High Bias):**\n",
    "  A straight line is used, but the data is clearly not linear.\n",
    "  ➤ It **misses the pattern** → does a poor job on both training and new data.\n",
    "\n",
    "* **Right image (Overfitting / High Variance):**\n",
    "  A wiggly curve that bends through every point.\n",
    "  ➤ It **memorizes the training data**, including noise → fails badly on new data.\n",
    "\n",
    "---\n",
    "\n",
    "## 🔮 **Figure 2: Prediction on New Data**\n",
    "\n",
    " ![Figure link](https://jakevdp.github.io/PythonDataScienceHandbook/figures/05.03-bias-variance-2.png)\n",
    "\n",
    "This figure shows how those same two models perform on **new test data**:\n",
    "\n",
    "* **Underfitting model (left):**\n",
    "  Predictions are **consistently bad** on both training and test data.\n",
    "\n",
    "* **Overfitting model (right):**\n",
    "  Predictions are **great on training**, but **terrible on test data**.\n",
    "  The model was too flexible and learned **noise**, not the real pattern.\n",
    "\n",
    "✳️ The scores shown (\\$R^2\\$ values) tell how well the models are doing.\n",
    "Lower scores on test data indicate poor generalization.\n",
    "\n",
    "---\n",
    "\n",
    "## 📈 **Figure 3: Validation Curve**\n",
    "\n",
    "![Figure link](https://jakevdp.github.io/PythonDataScienceHandbook/figures/05.03-validation-curve.png)\n",
    "\n",
    "This shows how model performance changes as we make the model **more complex**:\n",
    "\n",
    "* **Left side (Simple model / High Bias):**\n",
    "  Both training and test scores are **low** → model is too simple.\n",
    "\n",
    "* **Right side (Complex model / High Variance):**\n",
    "  Training score is **very high**, but test score is **low** → model is too complex.\n",
    "\n",
    "* **Middle (Sweet spot):**\n",
    "  Training score is **pretty good**, and test score is **also high**.\n",
    "  ✅ This is the **best point**—a good trade-off between bias and variance.\n",
    "\n",
    "---\n",
    "\n",
    "### 🧠 **Key Takeaways (in simple terms):**\n",
    "\n",
    "* A model that is too simple **misses the real pattern** → underfits.\n",
    "* A model that is too complex **learns noise** → overfits.\n",
    "* You want a model that's **just right** → good enough to learn the pattern but not so flexible that it memorizes noise.\n",
    "* The **validation curve** helps you find that balance.\n"
   ]
  },
  {
   "cell_type": "markdown",
   "id": "f4a1d31c",
   "metadata": {},
   "source": [
    "\n",
    "\n",
    "## 🎯 **Goal**:\n",
    "\n",
    "We want to understand how the **complexity of a model** affects its performance on data. We're using **polynomial regression** to do this.\n",
    "\n",
    "---\n",
    "\n",
    "### 🔢 **What is Polynomial Regression?**\n",
    "\n",
    "Polynomial regression is like regular linear regression, but it adds powers (squares, cubes, etc.) of the input features to allow the model to fit **curved** lines, not just straight ones.\n",
    "\n",
    "* **Degree 1** = straight line\n",
    "  Example: `y = ax + b`\n",
    "\n",
    "* **Degree 3** = more flexible curve\n",
    "  Example: `y = ax³ + bx² + cx + d`\n",
    "\n",
    "The **higher the degree**, the more flexible (and complex) the curve the model can draw.\n",
    "\n",
    "---\n",
    "\n",
    "### 🔧 **What is Being Tested?**\n",
    "\n",
    "We want to find out:\n",
    "\n",
    "* Which polynomial degree (how complex the model is) gives the **best** performance?\n",
    "* When does the model start **overfitting** the data?\n",
    "\n",
    "---\n",
    "\n",
    "### ✅ **Training vs Validation**\n",
    "\n",
    "* **Training score** = how well the model fits the data it learned from.\n",
    "* **Validation score** = how well it works on **new/unseen** data.\n",
    "\n",
    "Too **simple** a model (low degree) → **underfitting** (misses important patterns)\n",
    "Too **complex** a model (high degree) → **overfitting** (memorizes noise)\n",
    "\n",
    "---\n",
    "\n",
    "### 📉 **Validation Curve**\n",
    "\n",
    "A **validation curve** shows how training and validation scores change as we increase the **model complexity** (in this case, the degree of the polynomial).\n",
    "\n",
    "* If degree is too **low**: both scores are low → underfitting\n",
    "* If degree is **just right**: validation score peaks → good fit\n",
    "* If degree is too **high**: training score is high, but validation score drops → overfitting\n",
    "\n",
    "---\n",
    "\n",
    "### 🛠️ **In Scikit-Learn**\n",
    "\n",
    "We use tools like:\n",
    "\n",
    "* `PolynomialFeatures` to add powers of input (e.g., x², x³…)\n",
    "* `LinearRegression` to fit the data\n",
    "* `Pipeline` to combine both into one clean model\n",
    "* `validation_curve` to automatically test different degrees and give us scores\n",
    "\n",
    "---\n",
    "\n",
    "### 🧠 Bottom Line\n",
    "\n",
    "We’re using **polynomial regression** with **cross-validation** to figure out the **best model complexity** — not too simple, not too complex — using a **validation curve** to guide us.\n",
    "\n",
    "\n"
   ]
  },
  {
   "cell_type": "markdown",
   "id": "55a3ab0b",
   "metadata": {},
   "source": [
    "## you're building polynomial regression models of different degrees to:\n",
    "\n",
    "Visualize how the model fits the data\n",
    "\n",
    "Use cross-validation to find the optimal degree (complexity)\n",
    "\n",
    "Plot a validation curve to show how training and validation scores change with complexity"
   ]
  },
  {
   "cell_type": "markdown",
   "id": "6e3b0b27",
   "metadata": {},
   "source": [
    "### Main Goal: Find the best polynomial degree (1? 3? 10?) that fits our data without being too simple (underfitting) or too complex (overfitting)."
   ]
  },
  {
   "cell_type": "markdown",
   "id": "dd56db98",
   "metadata": {},
   "source": [
    "### Import required modules and define a Polynomial Regression function"
   ]
  },
  {
   "cell_type": "code",
   "execution_count": null,
   "id": "f3dd0ba1",
   "metadata": {},
   "outputs": [],
   "source": [
    "from sklearn.preprocessing import PolynomialFeatures\n",
    "from sklearn.linear_model import LinearRegression\n",
    "from sklearn.pipeline import make_pipeline\n",
    "\n",
    "def PolynomialRegression(degree=2, **kwargs):\n",
    "    # degree=2 sets the default polynomial degree (quadratic if not specified)\n",
    "    # **kwargs collects any additional named arguments passed to this function\n",
    "    \n",
    "    # make_pipeline creates a pipeline of transformations and estimators:\n",
    "    return make_pipeline(\n",
    "        PolynomialFeatures(degree),  # STEP 1: Generate polynomial features up to the given degree\n",
    "                                    # For example, if degree=3 and input x, features will be [1, x, x², x³]\n",
    "        LinearRegression(**kwargs)   # STEP 2: Fit a linear regression model on these polynomial features\n",
    "                                    # The **kwargs passes any extra options directly to LinearRegression\n",
    "                                    # For example, fit_intercept=False or normalize=True can be passed here\n",
    "    )\n",
    "\n",
    "# Example: if called as PolynomialRegression(degree=3, fit_intercept=False),\n",
    "# then kwargs will be {'fit_intercept': False} and LinearRegression will be initialized accordingly.\n"
   ]
  },
  {
   "cell_type": "markdown",
   "id": "982a6796",
   "metadata": {},
   "source": [
    "### What it does:\n",
    "Combines two steps into one \"pipeline\":\n",
    "\n",
    "PolynomialFeatures: Turns input x into [x, x², x³, ...] based on the degree\n",
    "\n",
    "LinearRegression: Fits a straight line to these new features\n",
    "\n",
    "Example:\n",
    "If degree=3 and x=2 → Features become [1, 2, 4, 8] → Model predicts y = a*8 + b*4 + c*2 + d"
   ]
  },
  {
   "cell_type": "markdown",
   "id": "8491db5a",
   "metadata": {},
   "source": [
    "## Creating fake data"
   ]
  },
  {
   "cell_type": "code",
   "execution_count": 15,
   "id": "125c36a4",
   "metadata": {},
   "outputs": [],
   "source": [
    "import numpy as np\n",
    "\n",
    "def make_data(N, err=1.0, rseed=1):\n",
    "    rng = np.random.RandomState(rseed)  # Start random number generator\n",
    "    X = rng.rand(N, 1) ** 2            # Create X values (squared to make uneven spread)\n",
    "    y = 10 - 1. / (X.ravel() + 0.1)    # True pattern: y = 10 - 1/(x+0.1)\n",
    "    y += err * rng.randn(N)             # Add random noise (like real-world data mess)\n",
    "    return X, y\n",
    "\n",
    "X, y = make_data(40)  # Make 40 data points"
   ]
  },
  {
   "cell_type": "markdown",
   "id": "c4cbc115",
   "metadata": {},
   "source": [
    "Why fake data?\n",
    "\n",
    "We know the true pattern (10 - 1/(x+0.1)), so we can test if models discover it correctly.\n",
    "\n",
    "Key features:\n",
    "\n",
    "Non-linear pattern (not a straight line)\n",
    "\n",
    "Added noise (like real measurements)"
   ]
  },
  {
   "cell_type": "markdown",
   "id": "980aec14",
   "metadata": {},
   "source": [
    "## Visualizing Fits"
   ]
  },
  {
   "cell_type": "code",
   "execution_count": 16,
   "id": "6116c732",
   "metadata": {},
   "outputs": [
    {
     "data": {
      "text/plain": [
       "<matplotlib.legend.Legend at 0x2adba733750>"
      ]
     },
     "execution_count": 16,
     "metadata": {},
     "output_type": "execute_result"
    },
    {
     "data": {
      "image/png": "[encoded data removed]",
      "text/plain": [
       "<Figure size 640x480 with 1 Axes>"
      ]
     },
     "metadata": {},
     "output_type": "display_data"
    }
   ],
   "source": [
    "import matplotlib.pyplot as plt  # Import plotting library for visualization\n",
    "\n",
    "# Create 500 evenly spaced test points between -0.1 and 1.1\n",
    "# np.linspace generates 500 points in this range\n",
    "# [:, None] reshapes the array to a 2D column vector (shape: 500 x 1)\n",
    "X_test = np.linspace(-0.1, 1.1, 500)[:, None]  \n",
    "\n",
    "# Plot the original training data points as black dots\n",
    "# X.ravel() flattens X from 2D to 1D for plotting on x-axis\n",
    "# y contains the corresponding target values for y-axis\n",
    "plt.scatter(X.ravel(), y, color='black')  \n",
    "\n",
    "# Loop over different polynomial degrees to compare fits\n",
    "for degree in [1, 3, 5]:\n",
    "    # Create and train polynomial regression model of the current degree\n",
    "    model = PolynomialRegression(degree).fit(X, y)  \n",
    "    \n",
    "    # Predict target values for the test points (X_test)\n",
    "    y_test = model.predict(X_test)  \n",
    "    \n",
    "    # Plot the predicted polynomial curve for these test points\n",
    "    # X_test.ravel() flattens for plotting on x-axis\n",
    "    # y_test is the predicted y-values on y-axis\n",
    "    # label adds a legend entry showing the degree of the polynomial\n",
    "    plt.plot(X_test.ravel(), y_test, label=f'degree={degree}')  \n",
    "\n",
    "# Display the legend on the plot to distinguish curves by polynomial degree\n",
    "plt.legend()\n"
   ]
  },
  {
   "cell_type": "markdown",
   "id": "f9f370db",
   "metadata": {},
   "source": [
    "Results:\n",
    "\n",
    " Degree 1: Straight line - too simple (underfitting)\n",
    "\n",
    " Degree 3: Curved line - just right\n",
    "\n",
    " Degree 5: Wiggly line - too complex (overfitting noise)"
   ]
  },
  {
   "cell_type": "markdown",
   "id": "c9776d7d",
   "metadata": {},
   "source": [
    "Logic Summary:\n",
    "\n",
    "We generate a smooth range of x-values (X_test) to visualize how the polynomial regression model fits across the input space.\n",
    "\n",
    "The original data is plotted as scattered points for context.\n",
    "\n",
    "For each polynomial degree (1, 3, and 5), we train the model, predict on X_test, and plot the curve.\n",
    "\n",
    "This lets us visually compare how polynomial degree affects the fit — degree 1 is a straight line, degree 3 and 5 are progressively more flexible curves."
   ]
  },
  {
   "cell_type": "markdown",
   "id": "f96f6c8b",
   "metadata": {},
   "source": [
    "### Finding best Degree with validation curve"
   ]
  },
  {
   "cell_type": "code",
   "execution_count": 19,
   "id": "0568361a",
   "metadata": {},
   "outputs": [
    {
     "data": {
      "text/plain": [
       "Text(0, 0.5, 'score')"
      ]
     },
     "execution_count": 19,
     "metadata": {},
     "output_type": "execute_result"
    },
    {
     "data": {
      "image/png": "[encoded data removed]",
      "text/plain": [
       "<Figure size 640x480 with 1 Axes>"
      ]
     },
     "metadata": {},
     "output_type": "display_data"
    }
   ],
   "source": [
    "from sklearn.model_selection import validation_curve  # Import function to create validation curves\n",
    "\n",
    "# Create an array of polynomial degrees from 0 to 20\n",
    "# np.arange(0, 21) creates [0, 1, 2, ..., 20]\n",
    "degrees = np.arange(0, 21)  \n",
    "\n",
    "# Use validation_curve to compute training and validation scores\n",
    "train_scores, val_scores = validation_curve(\n",
    "    PolynomialRegression(),              # The model to evaluate (a pipeline with polynomial + linear regression)\n",
    "    X, y,                                # Input data (features and target)\n",
    "    param_name='polynomialfeatures__degree',  # The hyperparameter to vary (degree of polynomial)\n",
    "    param_range=degrees,                 # The list of values to try for the parameter\n",
    "    cv=7                                 # Use 7-fold cross-validation (split data into 7 parts)\n",
    ")\n",
    "\n",
    "# Plot the median training scores across all 7 folds\n",
    "# degrees: x-axis (polynomial degrees from 0 to 20)\n",
    "# np.median(train_scores, axis=1): y-axis (median of training scores across 7 CV folds for each degree)\n",
    "# 'b-': plot with a blue solid line\n",
    "# label='Training Score': used in legend to identify this curve\n",
    "plt.plot(degrees, np.median(train_scores, axis=1), 'b-', label='Training Score')\n",
    "\n",
    "# Plot the median validation scores across all 7 folds\n",
    "# np.median(val_scores, axis=1): y-axis (median validation score for each degree)\n",
    "# 'r-': plot with a red solid line\n",
    "# label='Validation Score': used in legend to identify this curve\n",
    "plt.plot(degrees, np.median(val_scores, axis=1), 'r-', label='Validation Score')\n",
    "\n",
    "# Add a legend to differentiate between training and validation curves\n",
    "# loc='best': automatically chooses the best position for the legend\n",
    "plt.legend(loc='best')\n",
    "\n",
    "# Set the y-axis range from 0 to 1 (since scores are usually in [0, 1] range like accuracy or R²)\n",
    "plt.ylim(0, 1)\n",
    "\n",
    "# Label the x-axis to show that it represents the degree of the polynomial\n",
    "plt.xlabel('degree')\n",
    "\n",
    "# Label the y-axis to show that it represents the model score (like accuracy or R²)\n",
    "plt.ylabel('score')\n"
   ]
  },
  {
   "cell_type": "markdown",
   "id": "2d704ffd",
   "metadata": {},
   "source": [
    "What's happening:\n",
    "\n",
    "For each degree 0-20:\n",
    "\n",
    "Split data into 7 groups\n",
    "\n",
    "7x train on 6 groups → test on left-out group\n",
    "\n",
    "Calculate average R² score:\n",
    "\n",
    "1.0 = perfect prediction\n",
    "\n",
    "0.0 = predicts average\n",
    "\n",
    "<0 = worse than guessing average\n",
    "\n",
    "Key insights from plot:\n",
    "\n",
    "📈 Blue line (Training): Always increases - higher degrees fit training data better\n",
    "\n",
    "📉 Red line (Validation): Peaks at degree 3 - best for unseen data\n",
    "\n",
    "➡️ After degree 3: Validation drops = overfitting (model memorizes noise)"
   ]
  },
  {
   "cell_type": "markdown",
   "id": "ecb1d3c9",
   "metadata": {},
   "source": [
    "### Using best data model (Degree = 3)"
   ]
  },
  {
   "cell_type": "code",
   "execution_count": 20,
   "id": "ee3497a6",
   "metadata": {},
   "outputs": [
    {
     "data": {
      "text/plain": [
       "[<matplotlib.lines.Line2D at 0x2adba85cb90>]"
      ]
     },
     "execution_count": 20,
     "metadata": {},
     "output_type": "execute_result"
    },
    {
     "data": {
      "image/png": "[encoded data removed]",
      "text/plain": [
       "<Figure size 640x480 with 1 Axes>"
      ]
     },
     "metadata": {},
     "output_type": "display_data"
    }
   ],
   "source": [
    "\n",
    "plt.scatter(X.ravel(), y)  # Plot data again\n",
    "\n",
    "# Train degree-3 model on ALL data\n",
    "model = PolynomialRegression(3).fit(X, y)  \n",
    "y_test = model.predict(X_test)  # Predict\n",
    "plt.plot(X_test.ravel(), y_test, 'r')  # Plot best-fit curve"
   ]
  },
  {
   "cell_type": "markdown",
   "id": "a737bdf4",
   "metadata": {},
   "source": [
    "Result:\n",
    "\n",
    "Smooth curve that follows the true pattern\n",
    "\n",
    "Ignores noise in data\n",
    "\n",
    "Captures the underlying math 10 - 1/(x+0.1)"
   ]
  },
  {
   "cell_type": "markdown",
   "id": "e75adc9a",
   "metadata": {},
   "source": [
    "# What is a Learning Curve?\n",
    "A learning curve shows how the model’s performance (both training and validation) changes as the size of the training dataset increases.\n",
    "\n",
    "Small training set → Model might overfit (does well on training, poor on validation).\n",
    "\n",
    "Large training set → Model might underfit if too simple (training & validation scores get closer).\n",
    "\n",
    "The curve helps us understand whether more data will help, or whether we need a better model."
   ]
  },
  {
   "cell_type": "code",
   "execution_count": 21,
   "id": "c3bbf7eb",
   "metadata": {},
   "outputs": [
    {
     "data": {
      "text/plain": [
       "<matplotlib.collections.PathCollection at 0x2adba8c7250>"
      ]
     },
     "execution_count": 21,
     "metadata": {},
     "output_type": "execute_result"
    },
    {
     "data": {
      "image/png": "[encoded data removed]",
      "text/plain": [
       "<Figure size 640x480 with 1 Axes>"
      ]
     },
     "metadata": {},
     "output_type": "display_data"
    }
   ],
   "source": [
    "# Create a new dataset with more points (5x the previous)\n",
    "X2, y2 = make_data(200)  # 200 samples instead of 40\n",
    "plt.scatter(X2.ravel(), y2)  # Visualize the dataset\n"
   ]
  },
  {
   "cell_type": "markdown",
   "id": "28f42f9b",
   "metadata": {},
   "source": [
    "make_data(200) generates a synthetic dataset with 200 samples (instead of 40).\n",
    "\n",
    "plt.scatter(...) plots these points to show how the data looks visually.\n",
    "\n",
    ".ravel() flattens the array so we can plot 1D points.\n",
    "\n"
   ]
  },
  {
   "cell_type": "code",
   "execution_count": null,
   "id": "fb3e48d8",
   "metadata": {},
   "outputs": [
    {
     "data": {
      "image/png": "[encoded data removed]",
      "text/plain": [
       "<Figure size 640x480 with 1 Axes>"
      ]
     },
     "metadata": {},
     "output_type": "display_data"
    }
   ],
   "source": [
    "# Set degrees from 0 to 20 to test different polynomial complexities\n",
    "degree = np.arange(21)  # [0, 1, ..., 20]\n",
    "\n",
    "# Run validation curve for the larger dataset using 7-fold cross-validation\n",
    "train_score2, val_score2 = validation_curve(\n",
    "    PolynomialRegression(),     # Our model pipeline\n",
    "    X2, y2,                     # New larger dataset\n",
    "    param_name='polynomialfeatures__degree',  # Parameter to change: degree of polynomial\n",
    "    param_range= degree,                     # Try degree from 0 to 20\n",
    "    cv=7                        # 7-fold cross-validation\n",
    ")\n",
    "\n",
    "plt.plot(degree, np.median(train_score2, 1), color='blue', label='training score')\n",
    "plt.plot(degree, np.median(val_score2, 1), color='red', label='validation score')\n",
    "plt.plot(degree, np.median(train_scores, 1), color='blue', alpha=0.3, linestyle='dashed')\n",
    "plt.plot(degree, np.median(val_scores, 1), color='red', alpha=0.3, linestyle='dashed')\n",
    "plt.legend(loc='lower center')\n",
    "plt.ylim(0, 1)\n",
    "plt.xlabel('degree')\n",
    "plt.ylabel('score')"
   ]
  },
  {
   "cell_type": "markdown",
   "id": "10b4d2e6",
   "metadata": {},
   "source": [
    "validation_curve(...) tests different polynomial degrees.\n",
    "\n",
    "train_score2 & val_score2 will be arrays of shape (21, 7) → one row per degree, 7 scores (one per fold).\n",
    "\n",
    "cv=7 means 7 parts of the data are used to validate and train iteratively."
   ]
  },
  {
   "cell_type": "markdown",
   "id": "9703e9f3",
   "metadata": {},
   "source": [
    "These are solid lines showing how performance changes with degree on the larger dataset.\n",
    "\n",
    "np.median(..., axis=1) computes the median score across 7 folds for each degree.\n",
    "\n"
   ]
  },
  {
   "cell_type": "markdown",
   "id": "77ddd35b",
   "metadata": {},
   "source": [
    "Dashed curves show results from the previous dataset with only 40 points.\n",
    "\n",
    "This helps compare how model complexity interacts with data size."
   ]
  },
  {
   "cell_type": "markdown",
   "id": "773d9973",
   "metadata": {},
   "source": [
    "\n",
    "\n",
    "### 🔍 What Are We Talking About?\n",
    "\n",
    "We are trying to understand:\n",
    "\n",
    "1. How **complex** your model is (like how curvy the line is)\n",
    "2. How **much data** you give it to learn from (like 40 points vs 200 points)\n",
    "\n",
    "---\n",
    "\n",
    "### 📈 What Did We See in the Graph?\n",
    "\n",
    "* We trained models on two datasets:\n",
    "\n",
    "  * One with **40 data points**\n",
    "  * One with **200 data points**\n",
    "\n",
    "* We tried different **polynomial degrees** (like degree 1, 2, 3… 20)\n",
    "\n",
    "* We checked how well the model performed on:\n",
    "\n",
    "  * The **training data** (what it has already seen)\n",
    "  * The **validation data** (new data it hasn’t seen before)\n",
    "\n",
    "---\n",
    "\n",
    "### ✅ What Did We Learn?\n",
    "\n",
    "1. **Bigger datasets can handle more complex models**\n",
    "\n",
    "   * With 40 points, a complex model (degree 20) **overfits** (memorizes the data, but fails on new data).\n",
    "   * With 200 points, a complex model still performs well — **no serious overfitting**.\n",
    "\n",
    "2. **Both model complexity and dataset size matter**\n",
    "\n",
    "   * You can't say a model is too complex without knowing how much data you have.\n",
    "   * A small dataset = simple model is better.\n",
    "   * A big dataset = can try more complex models.\n",
    "\n",
    "---\n",
    "\n",
    "### 📚 What is a Learning Curve?\n",
    "\n",
    "A **learning curve** shows how the model improves as you give it more data.\n",
    "\n",
    "---\n",
    "\n",
    "### 🤔 How to Read a Learning Curve:\n",
    "\n",
    "Let’s say you use the same model (like degree=5) and feed it more and more data:\n",
    "\n",
    "* 🔹 **With little data:**\n",
    "\n",
    "  * Training score is **high** (it memorized)\n",
    "  * Validation score is **low** (it can’t generalize)\n",
    "  * This means it’s **overfitting**\n",
    "\n",
    "* 🔹 **With more data:**\n",
    "\n",
    "  * Training score **goes down a bit** (less memorization)\n",
    "  * Validation score **goes up** (better generalization)\n",
    "  * This means it’s **learning properly**\n",
    "\n",
    "* 🔹 **Eventually:**\n",
    "\n",
    "  * Both scores get **close to each other**\n",
    "  * But validation score never becomes better than training score\n",
    "  * That’s the best your model can do with its current settings\n",
    "\n",
    "---\n",
    "\n",
    "### 💡 Summary (in plain words):\n",
    "\n",
    "* If you have **little data**, don’t make the model too smart.\n",
    "* If you have **lots of data**, you can make the model smarter (more complex).\n",
    "* A **learning curve** helps you decide:\n",
    "\n",
    "  > “Do I need more data?” or “Do I need a better model?”\n",
    "\n",
    "\n"
   ]
  },
  {
   "cell_type": "markdown",
   "id": "afad4403",
   "metadata": {},
   "source": [
    "## What is a Learning Curve?\n",
    "A Learning Curve is a graph that shows how a machine learning model's performance improves as we feed it more training data.\n",
    "\n",
    "It helps us:\n",
    "\n",
    "Understand if the model is overfitting or underfitting\n",
    "\n",
    "Decide whether we need more data or a different model\n",
    "\n",
    "Choose the right model complexity\n",
    "\n"
   ]
  },
  {
   "cell_type": "markdown",
   "id": "c49922c5",
   "metadata": {},
   "source": [
    "We will:\n",
    "\n",
    "Train two models using different polynomial degrees (2 and 9)\n",
    "\n",
    "Plot how their training and validation accuracy changes as the training size increases\n",
    "\n",
    "Use these plots to understand how model complexity affects learning\n",
    "\n"
   ]
  },
  {
   "cell_type": "code",
   "execution_count": 37,
   "id": "533c5869",
   "metadata": {},
   "outputs": [
    {
     "data": {
      "image/png": "[encoded data removed]",
      "text/plain": [
       "<Figure size 1600x600 with 2 Axes>"
      ]
     },
     "metadata": {},
     "output_type": "display_data"
    },
    {
     "data": {
      "image/png": "[encoded data removed]",
      "text/plain": [
       "<Figure size 1600x600 with 2 Axes>"
      ]
     },
     "metadata": {},
     "output_type": "display_data"
    }
   ],
   "source": [
    "from sklearn.model_selection import learning_curve\n",
    "\n",
    "# Create a figure and an array of 2 subplots arranged in 1 row and 2 columns\n",
    "# figsize=(16, 6) sets the overall size of the figure to be 16 inches wide and 6 inches tall\n",
    "fig, ax = plt.subplots(1, 2, figsize=(16, 6))  \n",
    "\n",
    "# Adjust the layout of the subplots within the figure:\n",
    "# - left=0.0625 moves the left edge of the subplots slightly right to leave some margin\n",
    "# - right=0.95 moves the right edge slightly left to leave some margin\n",
    "# - wspace=0.1 sets a small amount of horizontal space (width space) between the two subplots\n",
    "fig.subplots_adjust(left=0.0625, right=0.95, wspace=0.1)  \n",
    "\n",
    "ig, ax = plt.subplots(1, 2, figsize=(16, 6))\n",
    "fig.subplots_adjust(left=0.0625, right=0.95, wspace=0.1)\n",
    "\n",
    "for i, degree in enumerate([2, 9]):\n",
    "    N, train_lc, val_lc = learning_curve(PolynomialRegression(degree),\n",
    "                                         X, y, cv=7,\n",
    "                                         train_sizes=np.linspace(0.3, 1, 25))\n",
    "\n",
    "    ax[i].plot(N, np.mean(train_lc, 1), color='blue', label='training score')\n",
    "    ax[i].plot(N, np.mean(val_lc, 1), color='red', label='validation score')\n",
    "    ax[i].hlines(np.mean([train_lc[-1], val_lc[-1]]), N[0], N[-1],\n",
    "                 color='gray', linestyle='dashed')\n",
    "\n",
    "    ax[i].set_ylim(0, 1)\n",
    "    ax[i].set_xlim(N[0], N[-1])\n",
    "    ax[i].set_xlabel('training size')\n",
    "    ax[i].set_ylabel('score')\n",
    "    ax[i].set_title('degree = {0}'.format(degree), size=14)\n",
    "    ax[i].legend(loc='best')"
   ]
  }
 ],
 "metadata": {
  "kernelspec": {
   "display_name": "Python 3",
   "language": "python",
   "name": "python3"
  },
  "language_info": {
   "codemirror_mode": {
    "name": "ipython",
    "version": 3
   },
   "file_extension": ".py",
   "mimetype": "text/x-python",
   "name": "python",
   "nbconvert_exporter": "python",
   "pygments_lexer": "ipython3",
   "version": "3.13.1"
  }
 },
 "nbformat": 4,
 "nbformat_minor": 5
}
