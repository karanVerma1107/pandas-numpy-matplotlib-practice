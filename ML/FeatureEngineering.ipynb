{
 "cells": [
  {
   "cell_type": "markdown",
   "id": "24311caa",
   "metadata": {},
   "source": [
    "\n",
    "\n",
    "In machine learning, we usually work with data in a neat format: rows and columns of numbers (like a table where each row is one example and each column is a feature). But in the real world, data isn’t always in this clean, numeric form.\n",
    "\n",
    "**Feature engineering** is the process of **taking messy, raw data and turning it into numbers** that a machine learning model can understand and work with.\n",
    "\n",
    "This process includes:\n",
    "\n",
    "* Turning **categories** (like \"red\", \"blue\", \"green\") into numbers.\n",
    "* Turning **text** (like sentences or reviews) into numbers.\n",
    "* Turning **images** (like photos) into numbers.\n",
    "* Creating new **features** from existing ones to help the model perform better.\n",
    "* **Filling in missing data** so the model doesn’t get confused.\n",
    "\n",
    "This whole transformation—changing different types of data into numeric vectors—is often called **vectorization**.\n",
    "\n",
    "\n"
   ]
  },
  {
   "cell_type": "markdown",
   "id": "d0829724",
   "metadata": {},
   "source": [
    "\n",
    "\n",
    "### 🧵 Example: Online Store – Customer Orders\n",
    "\n",
    "Suppose you are analyzing orders from an online store. Here’s a small dataset:\n",
    "\n",
    "```python\n",
    "orders = [\n",
    "    {'product': 'Laptop', 'payment_method': 'Credit Card', 'amount': 1200},\n",
    "    {'product': 'Phone', 'payment_method': 'PayPal', 'amount': 800},\n",
    "    {'product': 'Tablet', 'payment_method': 'Credit Card', 'amount': 600},\n",
    "    {'product': 'Phone', 'payment_method': 'Cash', 'amount': 750}\n",
    "]\n",
    "```\n",
    "\n",
    "This data has:\n",
    "\n",
    "* **Numerical data**: `amount`\n",
    "* **Categorical data**: `product` and `payment_method`\n",
    "\n",
    "### ❌ Why we *shouldn't* do this:\n",
    "\n",
    "You might think of converting the categories into numbers like this:\n",
    "\n",
    "```python\n",
    "{'Laptop': 1, 'Phone': 2, 'Tablet': 3}\n",
    "```\n",
    "\n",
    "This makes the model think \"Phone is 2 times better than Laptop\", which is **nonsense** for product names.\n",
    "\n",
    "---\n",
    "\n",
    "### ✅ The correct way: One-hot encode the categorical data\n",
    "\n",
    "Using **`DictVectorizer`** in Scikit-learn:\n",
    "\n",
    "```python\n",
    "from sklearn.feature_extraction import DictVectorizer\n",
    "\n",
    "vec = DictVectorizer(sparse=False)\n",
    "\n",
    "X = vec.fit_transform(orders)\n",
    "print(X)\n",
    "```\n",
    "\n",
    "**Resulting Matrix:**\n",
    "\n",
    "```\n",
    "[[  0.  1.  0.  1.  0. 1200.]\n",
    " [  1.  0.  0.  0.  1.  800.]\n",
    " [  0.  1.  0.  1.  0.  600.]\n",
    " [  0.  0.  1.  0.  1.  750.]]\n",
    "```\n",
    "\n",
    "Each column represents a **feature**:\n",
    "\n",
    "```python\n",
    "vec.get_feature_names_out()\n",
    "```\n",
    "\n",
    "Gives:\n",
    "\n",
    "```\n",
    "['payment_method=Cash',\n",
    " 'payment_method=Credit Card',\n",
    " 'payment_method=PayPal',\n",
    " 'product=Laptop',\n",
    " 'product=Phone',\n",
    " 'amount']\n",
    "```\n",
    "\n",
    "---\n",
    "\n",
    "### ✅ Explanation:\n",
    "\n",
    "For the first row:\n",
    "\n",
    "```python\n",
    "{'product': 'Laptop', 'payment_method': 'Credit Card', 'amount': 1200}\n",
    "```\n",
    "\n",
    "It becomes:\n",
    "\n",
    "```\n",
    "[0, 1, 0, 1, 0, 1200]\n",
    "```\n",
    "\n",
    "* `payment_method=Credit Card` → 1\n",
    "* `product=Laptop` → 1\n",
    "* Everything else is 0\n",
    "* `amount` stays as-is\n",
    "\n",
    "---\n",
    "\n",
    "### 🔍 Why this helps the model:\n",
    "\n",
    "* The model doesn't treat \"Phone\" as higher or lower than \"Laptop\".\n",
    "* Each category becomes its **own independent binary flag**.\n",
    "* The model can learn patterns like:\n",
    "\n",
    "  * “Orders paid by PayPal tend to have lower amounts”\n",
    "  * “Phones are often bought with cash”\n",
    "\n",
    "---\n",
    "\n",
    "### 🧠 Recap:\n",
    "\n",
    "| Step           | What it does                                          |\n",
    "| -------------- | ----------------------------------------------------- |\n",
    "| Identify       | Find non-numeric (categorical) columns                |\n",
    "| One-hot encode | Turn each category into a separate column with 1 or 0 |\n",
    "| Fit model      | Now your model works with clean, numeric data         |\n",
    "\n",
    "---\n",
    "\n"
   ]
  },
  {
   "cell_type": "markdown",
   "id": "a98f621f",
   "metadata": {},
   "source": [
    "| Cash | CreditCard | PayPal | Laptop | Phone | Amount |\n",
    "| ---- | ---------- | ------ | ------ | ----- | ------ |\n",
    "| 0    | 1          | 0      | 1      | 0     | 1200   |\n",
    "| 0    | 0          | 1      | 0      | 1     | 800    |\n",
    "| 0    | 1          | 0      | 1      | 0     | 600    |\n",
    "| 1    | 0          | 0      | 0      | 1     | 750    |\n"
   ]
  },
  {
   "cell_type": "markdown",
   "id": "fbbfd169",
   "metadata": {},
   "source": [
    "payment method is Credit Card → only column 1 gets 1\n",
    "\n",
    "product is Laptop → only column 3 gets 1\n",
    "\n",
    "amount is just 1200\n",
    "\n"
   ]
  },
  {
   "cell_type": "markdown",
   "id": "37a0aac7",
   "metadata": {},
   "source": [
    "\n",
    "## 🧠 Goal:\n",
    "\n",
    "We want to **convert text into numbers**, so we can use it in machine learning models.\n",
    "\n",
    "This process is called **text vectorization**.\n",
    "\n",
    "---\n",
    "\n",
    "## 📝 Example:\n",
    "\n",
    "Imagine we have 3 short phrases:\n",
    "\n",
    "```python\n",
    "sample = [\n",
    "    'problem of evil',\n",
    "    'evil queen',\n",
    "    'horizon problem'\n",
    "]\n",
    "```\n",
    "\n",
    "These are just **text strings**, but machine learning models **don’t understand text** — they understand **numbers**.\n",
    "\n",
    "So we need to turn these texts into a form like:\n",
    "\n",
    "```\n",
    "[0, 1, 1, 0, 0]  ← represents how many times each word appeared\n",
    "```\n",
    "\n",
    "---\n",
    "\n",
    "## 🔢 Method 1: **Word Count (Bag of Words)**\n",
    "\n",
    "This is the simplest method.\n",
    "\n",
    "### 🔧 Using `CountVectorizer`:\n",
    "\n",
    "```python\n",
    "from sklearn.feature_extraction.text import CountVectorizer\n",
    "\n",
    "vec = CountVectorizer()\n",
    "X = vec.fit_transform(sample)\n",
    "```\n",
    "\n",
    "It:\n",
    "\n",
    "* Splits each sentence into words\n",
    "* Counts how many times each word appears\n",
    "\n",
    "### 🗂 All words found:\n",
    "\n",
    "There are **5 unique words** across all phrases:\n",
    "\n",
    "```\n",
    "['evil', 'horizon', 'of', 'problem', 'queen']\n",
    "```\n",
    "\n",
    "### 📊 Data as a table:\n",
    "\n",
    "| Phrase            | evil | horizon | of | problem | queen |\n",
    "| ----------------- | ---- | ------- | -- | ------- | ----- |\n",
    "| 'problem of evil' | 1    | 0       | 1  | 1       | 0     |\n",
    "| 'evil queen'      | 1    | 0       | 0  | 0       | 1     |\n",
    "| 'horizon problem' | 0    | 1       | 0  | 1       | 0     |\n",
    "\n",
    "Each row shows the **word count** for each word in that sentence.\n",
    "\n",
    "This is called a **sparse matrix** because most values are 0 (i.e., most words don’t appear in each sentence).\n",
    "\n",
    "---\n",
    "\n",
    "## ⚠️ Problem:\n",
    "\n",
    "If a word appears very often (like “the”, “is”, etc.), it might dominate and confuse the model.\n",
    "\n",
    "So we use a smarter version called:\n",
    "\n",
    "---\n",
    "\n",
    "## 🧠 Method 2: **TF-IDF (Term Frequency - Inverse Document Frequency)**\n",
    "\n",
    "This gives:\n",
    "\n",
    "* **High score** if a word appears often **in one sentence**\n",
    "* **Low score** if that word appears **in many sentences**\n",
    "\n",
    "It helps models focus on **important words** instead of common ones.\n",
    "\n",
    "### 🔧 Using `TfidfVectorizer`:\n",
    "\n",
    "```python\n",
    "from sklearn.feature_extraction.text import TfidfVectorizer\n",
    "\n",
    "vec = TfidfVectorizer()\n",
    "X = vec.fit_transform(sample)\n",
    "```\n",
    "\n",
    "### 📊 New table:\n",
    "\n",
    "| Phrase            | evil | horizon | of   | problem | queen |\n",
    "| ----------------- | ---- | ------- | ---- | ------- | ----- |\n",
    "| 'problem of evil' | 0.52 | 0       | 0.68 | 0.52    | 0     |\n",
    "| 'evil queen'      | 0.61 | 0       | 0    | 0       | 0.80  |\n",
    "| 'horizon problem' | 0    | 0.80    | 0    | 0.61    | 0     |\n",
    "\n",
    "Now the numbers are **not just counts**, but **weighted scores** that show how unique and important the words are in each phrase.\n",
    "\n",
    "---\n",
    "\n",
    "## 💡 Summary:\n",
    "\n",
    "| Method          | What it does                                             |\n",
    "| --------------- | -------------------------------------------------------- |\n",
    "| CountVectorizer | Turns each sentence into a count of each word            |\n",
    "| TfidfVectorizer | Turns each sentence into a score showing word importance |\n",
    "\n",
    "---\n",
    "\n",
    "### 📌 Real-life uses:\n",
    "\n",
    "* Analyzing social media posts\n",
    "* Spam detection\n",
    "* Sentiment analysis\n",
    "* Search engines\n",
    "\n"
   ]
  },
  {
   "cell_type": "markdown",
   "id": "eb1f5a27",
   "metadata": {},
   "source": [
    "## What’s the main idea?\n",
    "We often start with simple models (like straight lines).\n",
    "But real-world data is rarely that simple. It may follow curves or complex shapes.\n",
    "\n",
    "So instead of using a more complex model, we transform the input data to make it easier for simple models to fit better.\n",
    "\n",
    "These transformations are called derived features."
   ]
  },
  {
   "cell_type": "markdown",
   "id": "9d1b1989",
   "metadata": {},
   "source": [
    "We have data"
   ]
  },
  {
   "cell_type": "code",
   "execution_count": 1,
   "id": "0a5d2e5d",
   "metadata": {},
   "outputs": [
    {
     "data": {
      "image/png": "[encoded data removed]",
      "text/plain": [
       "<Figure size 640x480 with 1 Axes>"
      ]
     },
     "metadata": {},
     "output_type": "display_data"
    }
   ],
   "source": [
    "import matplotlib.pyplot as plt\n",
    "import numpy as np\n",
    "\n",
    "x = np.array([1, 2, 3, 4, 5])\n",
    "y = np.array([4, 2, 1, 3, 7])\n",
    "\n",
    "plt.scatter(x, y)  # show the points\n",
    "plt.show()\n"
   ]
  },
  {
   "cell_type": "markdown",
   "id": "c639894a",
   "metadata": {},
   "source": [
    "The data does not follow a straight line."
   ]
  },
  {
   "cell_type": "markdown",
   "id": "422d36c1",
   "metadata": {},
   "source": [
    "## Try simple linear regression (a straight line)"
   ]
  },
  {
   "cell_type": "code",
   "execution_count": 2,
   "id": "aa3d0cdd",
   "metadata": {},
   "outputs": [
    {
     "data": {
      "image/png": "[encoded data removed]",
      "text/plain": [
       "<Figure size 640x480 with 1 Axes>"
      ]
     },
     "metadata": {},
     "output_type": "display_data"
    }
   ],
   "source": [
    "from sklearn.linear_model import LinearRegression\n",
    "\n",
    "X = x[:, np.newaxis]  # reshape from 1D to 2D, as model expects 2D input\n",
    "model = LinearRegression().fit(X, y)  # fit the line\n",
    "yfit = model.predict(X)  # get predicted values\n",
    "\n",
    "plt.scatter(x, y)        # actual data\n",
    "plt.plot(x, yfit, color='red')  # predicted line\n",
    "plt.show()\n"
   ]
  },
  {
   "cell_type": "markdown",
   "id": "ee5cb224",
   "metadata": {},
   "source": [
    "The red line doesn’t fit the data well — the data bends, but the line is straight."
   ]
  },
  {
   "cell_type": "markdown",
   "id": "5a4c5a7b",
   "metadata": {},
   "source": [
    "## Add polynomial features (e.g., x², x³)"
   ]
  },
  {
   "cell_type": "code",
   "execution_count": 4,
   "id": "e9a62a70",
   "metadata": {},
   "outputs": [
    {
     "name": "stdout",
     "output_type": "stream",
     "text": [
      "[[  1.   1.   1.]\n",
      " [  2.   4.   8.]\n",
      " [  3.   9.  27.]\n",
      " [  4.  16.  64.]\n",
      " [  5.  25. 125.]]\n"
     ]
    }
   ],
   "source": [
    "from sklearn.preprocessing import PolynomialFeatures\n",
    "\n",
    "# Step 1: Create a PolynomialFeatures object\n",
    "# - degree=3 means we want to generate x, x^2, and x^3 (i.e., cubic transformation)\n",
    "# - include_bias=False means we don't want to add a column of 1s (which acts like the intercept term).\n",
    "#   The model will handle intercepts automatically.\n",
    "poly = PolynomialFeatures(degree=3, include_bias=False)\n",
    "\n",
    "# Step 2: Transform the original 1D feature (X) into higher degree features\n",
    "# For each value of x, this will generate a new row containing:\n",
    "# [x, x^2, x^3]\n",
    "# For example, if x = 2, the transformed row becomes [2, 4, 8]\n",
    "X2 = poly.fit_transform(X)\n",
    "\n",
    "# Step 3: Print the transformed feature matrix\n",
    "# The output will show a matrix where:\n",
    "# - Column 1 = original x\n",
    "# - Column 2 = x squared\n",
    "# - Column 3 = x cubed\n",
    "print(X2)\n"
   ]
  },
  {
   "cell_type": "markdown",
   "id": "17a371ca",
   "metadata": {},
   "source": [
    "Each row now has:\n",
    "\n",
    "First column: x\n",
    "\n",
    "Second column: x²\n",
    "\n",
    "Third column: x³\n",
    "\n",
    "So for x = 2, we get [2, 4, 8]."
   ]
  },
  {
   "cell_type": "markdown",
   "id": "ecdff244",
   "metadata": {},
   "source": [
    "## Fit the same Linear Regression model on this transformed data"
   ]
  },
  {
   "cell_type": "code",
   "execution_count": 5,
   "id": "dfa3b97b",
   "metadata": {},
   "outputs": [
    {
     "data": {
      "image/png": "[encoded data removed]",
      "text/plain": [
       "<Figure size 640x480 with 1 Axes>"
      ]
     },
     "metadata": {},
     "output_type": "display_data"
    }
   ],
   "source": [
    "model = LinearRegression().fit(X2, y)  # train using polynomial features\n",
    "yfit = model.predict(X2)               # get predicted values\n",
    "\n",
    "plt.scatter(x, y)                      # plot original points\n",
    "plt.plot(x, yfit, color='green')       # plot the curve\n",
    "plt.show()\n"
   ]
  },
  {
   "cell_type": "markdown",
   "id": "327274c1",
   "metadata": {},
   "source": [
    "| Concept                | Meaning                                                            |\n",
    "| ---------------------- | ------------------------------------------------------------------ |\n",
    "| **Derived Features**   | New features made by transforming existing ones (like x², x³)      |\n",
    "| **PolynomialFeatures** | Automatically creates x, x², x³, etc. for you                      |\n",
    "| **Why it works?**      | It lets a simple model (like a straight-line model) fit curvy data |\n"
   ]
  }
 ],
 "metadata": {
  "kernelspec": {
   "display_name": "venv",
   "language": "python",
   "name": "python3"
  },
  "language_info": {
   "codemirror_mode": {
    "name": "ipython",
    "version": 3
   },
   "file_extension": ".py",
   "mimetype": "text/x-python",
   "name": "python",
   "nbconvert_exporter": "python",
   "pygments_lexer": "ipython3",
   "version": "3.13.1"
  }
 },
 "nbformat": 4,
 "nbformat_minor": 5
}
