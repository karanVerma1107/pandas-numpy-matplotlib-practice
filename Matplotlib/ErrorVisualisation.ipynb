{
 "cells": [
  {
   "cell_type": "markdown",
   "id": "33a1f92c",
   "metadata": {},
   "source": [
    "\n",
    "\n",
    "When you measure something scientifically, it’s not enough to just give a number — you also need to report how uncertain or *accurate* that number is. This uncertainty is called the **error** or **uncertainty** in the measurement.\n",
    "\n",
    "For example, if scientists say the Hubble Constant (which measures how fast the universe is expanding) is about 71 (km/s)/Mpc, and you measure it as 74 (km/s)/Mpc, just these numbers alone don’t tell you if your result agrees with theirs or not.\n",
    "\n",
    "But if both measurements include their **uncertainties** — say 71 ± 2.5 and 74 ± 5 — you can compare these ranges and see if they overlap. Overlapping ranges means the two measurements could be consistent, despite the different numbers.\n",
    "\n",
    "In data visualization, showing these error ranges (like error bars or shaded uncertainty regions) is important because it gives a fuller picture, not just the raw values.\n",
    "\n",
    "---\n",
    "\n",
    "### Summary:\n",
    "\n",
    "* Scientific measurements always have some uncertainty.\n",
    "* Just reporting a number isn’t enough to tell if two results agree.\n",
    "* Including error ranges helps compare measurements properly.\n",
    "* Visualizing errors clearly on plots makes your data more informative and trustworthy.\n"
   ]
  },
  {
   "cell_type": "code",
   "execution_count": 8,
   "id": "91f000ab",
   "metadata": {},
   "outputs": [
    {
     "data": {
      "image/png": "[encoded data removed]",
      "text/plain": [
       "<Figure size 640x480 with 1 Axes>"
      ]
     },
     "metadata": {},
     "output_type": "display_data"
    }
   ],
   "source": [
    "import numpy as np\n",
    "import matplotlib.pyplot as plt\n",
    "\n",
    "# 1. Use a visually appealing plot style with grid background\n",
    "plt.style.use('ggplot')\n",
    "\n",
    "# 2. Generate 50 evenly spaced x-values between 0 and 10\n",
    "x = np.linspace(0, 10, 50)\n",
    "\n",
    "# 3. Define the vertical error/uncertainty (standard deviation of noise)\n",
    "#    This value tells us how much \"randomness\" or error is expected in measurements\n",
    "dy = 0.8\n",
    "\n",
    "# 4. Generate realistic y-values by simulating measurement noise:\n",
    "#    - np.sin(x): gives the clean, perfect sine wave values\n",
    "#    - np.random.randn(50): generates 50 random values from a standard normal distribution (mean = 0, std = 1)\n",
    "#         ➤ These values are centered around 0, and most of them lie between -3 and +3\n",
    "#         ➤ It simulates random \"errors\" or \"noise\" added to each measurement\n",
    "#    - dy * np.random.randn(50): scales the random noise by 0.8 to control how strong the noise is\n",
    "#    - This helps simulate real-world data, where measurements are never perfect and always have some noise\n",
    "y = np.sin(x) + dy* np.random.randn(50) \n",
    "\n",
    "# 5. Create an error bar plot:\n",
    "#    - x and y are the data points\n",
    "#    - yerr=dy adds vertical error bars of ±0.8 to each point\n",
    "#    - fmt='.k' means each point is shown as a small black dot\n",
    "plt.errorbar(x, y, yerr=dy, fmt='.k')\n",
    "\n",
    "\n",
    "\n",
    "# 6. Display the plot\n",
    "plt.show()\n"
   ]
  }
 ],
 "metadata": {
  "kernelspec": {
   "display_name": "venv",
   "language": "python",
   "name": "python3"
  },
  "language_info": {
   "codemirror_mode": {
    "name": "ipython",
    "version": 3
   },
   "file_extension": ".py",
   "mimetype": "text/x-python",
   "name": "python",
   "nbconvert_exporter": "python",
   "pygments_lexer": "ipython3",
   "version": "3.13.1"
  }
 },
 "nbformat": 4,
 "nbformat_minor": 5
}
